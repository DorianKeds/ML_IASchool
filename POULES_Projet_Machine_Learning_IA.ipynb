{
 "cells": [
  {
   "cell_type": "markdown",
   "metadata": {},
   "source": [
    "<p><font size=\"6\"><b>Python for data analysis </b></font></p>\n",
    "\n",
    "\n",
    "> *Projet Machine Learning IA SCHOOL*  \n",
    "> *May, 2021*\n",
    "\n",
    "---"
   ]
  },
  {
   "cell_type": "markdown",
   "metadata": {},
   "source": [
    "### Description\n",
    "\n",
    "Ce fichier est celui d’une étude portant sur les facteurs prénataux liés à un accouchement prématuré chez les                  femmes déjà en travail prématuré. Au total, 12 variables ont été recueillies pour 390 femmes enrôlées dans                      l'étude."
   ]
  },
  {
   "cell_type": "markdown",
   "metadata": {},
   "source": [
    "### Variables prédictives  => `Features : Caractéristiques ou variables à étudier`\n",
    "\n",
    "GEST: l'âge gestationnel en semaines à l'entrée dans l'étude\n",
    "\n",
    "DILATE: la dilatation du col en cm\n",
    "\n",
    "EFFACE: l’effacement du col (en %) \n",
    "\n",
    "CONSIS:la consistance du col (1= mou, 2= moyen, 3=ferme)\n",
    "\n",
    "CONTR: la présence (=1) ou non (=2) de contraction\n",
    "\n",
    "MEMBRAN: les membranes rompues (=1) ou non (=2) ou incertain (=3) \n",
    "\n",
    "AGE: l’âge de la patiente\n",
    "\n",
    "GRAVID: la gestité (nombre de grossesses antérieures y compris celle en cours)\n",
    "\n",
    "PARIT: la parité (nombre de grossesses à terme antérieures)\n",
    "\n",
    "DIAB: la présence (=1) ou non (=2) d'un problème de diabète, ou valeur manquante (=9)\n",
    "\n",
    "TRANSF: le transfert (1) ou non (2) vers un hôpital en soins spécialisés\n",
    "\n",
    "GEMEL: grossesse simple (=1) ou multiple (=2) "
   ]
  },
  {
   "cell_type": "markdown",
   "metadata": {},
   "source": [
    "### Variable à prédire\n",
    "\n",
    "PREMATURE: accouchement prématuré (positif ou négatif)\n"
   ]
  },
  {
   "cell_type": "markdown",
   "metadata": {},
   "source": [
    "Tout d’abord, nous allons importer les modules `numpy`, `pandas`, `matplotlib.pyplot` et `sklearn `(uniquement les éléments dont on a besoin), ensuite on charge le fichier Excel comprenant les données. Puis, on affiche les dix premiers enregistrements de l’ensemble des données à l’aide de la fonction `head()` afin d’avoir une idée sur la dataset."
   ]
  },
  {
   "cell_type": "markdown",
   "metadata": {},
   "source": [
    "#### Importation des libraries"
   ]
  },
  {
   "cell_type": "code",
   "execution_count": 71,
   "metadata": {},
   "outputs": [],
   "source": [
    "# Nous commençons par importer les libraries que nous utiliserons tout au long de cette analyse\n",
    "\n",
    "import pandas as pd # librairie pour lecture et manipulation de donnée\n",
    "\n",
    "import numpy as np # notre fameuse numpy pour le calcul numérique\n",
    "\n",
    "import matplotlib.pyplot as plt # pour les visualisations\n",
    "\n",
    "from sklearn.model_selection import train_test_split\n",
    "from sklearn import linear_model\n",
    "\n",
    "# import seaborn\n",
    "import seaborn as sns"
   ]
  },
  {
   "cell_type": "markdown",
   "metadata": {},
   "source": [
    "#### Lecture de la base de donnée"
   ]
  },
  {
   "cell_type": "code",
   "execution_count": 72,
   "metadata": {},
   "outputs": [],
   "source": [
    "prematures = pd.read_excel(\"data/Prematures.xls\")"
   ]
  },
  {
   "cell_type": "markdown",
   "metadata": {},
   "source": [
    "Un aperçu des 10 premiers enregistrements:"
   ]
  },
  {
   "cell_type": "code",
   "execution_count": 73,
   "metadata": {},
   "outputs": [
    {
     "data": {
      "text/html": [
       "<div>\n",
       "<style scoped>\n",
       "    .dataframe tbody tr th:only-of-type {\n",
       "        vertical-align: middle;\n",
       "    }\n",
       "\n",
       "    .dataframe tbody tr th {\n",
       "        vertical-align: top;\n",
       "    }\n",
       "\n",
       "    .dataframe thead th {\n",
       "        text-align: right;\n",
       "    }\n",
       "</style>\n",
       "<table border=\"1\" class=\"dataframe\">\n",
       "  <thead>\n",
       "    <tr style=\"text-align: right;\">\n",
       "      <th></th>\n",
       "      <th>GEST</th>\n",
       "      <th>DILATE</th>\n",
       "      <th>EFFACE</th>\n",
       "      <th>CONSIS</th>\n",
       "      <th>CONTR</th>\n",
       "      <th>MEMBRAN</th>\n",
       "      <th>AGE</th>\n",
       "      <th>GRAVID</th>\n",
       "      <th>PARIT</th>\n",
       "      <th>DIAB</th>\n",
       "      <th>TRANSF</th>\n",
       "      <th>GEMEL</th>\n",
       "      <th>PREMATURE</th>\n",
       "    </tr>\n",
       "  </thead>\n",
       "  <tbody>\n",
       "    <tr>\n",
       "      <th>0</th>\n",
       "      <td>31</td>\n",
       "      <td>3</td>\n",
       "      <td>100</td>\n",
       "      <td>3</td>\n",
       "      <td>1</td>\n",
       "      <td>2</td>\n",
       "      <td>26</td>\n",
       "      <td>1</td>\n",
       "      <td>0</td>\n",
       "      <td>2</td>\n",
       "      <td>2</td>\n",
       "      <td>1</td>\n",
       "      <td>positif</td>\n",
       "    </tr>\n",
       "    <tr>\n",
       "      <th>1</th>\n",
       "      <td>28</td>\n",
       "      <td>8</td>\n",
       "      <td>0</td>\n",
       "      <td>3</td>\n",
       "      <td>1</td>\n",
       "      <td>2</td>\n",
       "      <td>25</td>\n",
       "      <td>1</td>\n",
       "      <td>0</td>\n",
       "      <td>2</td>\n",
       "      <td>1</td>\n",
       "      <td>2</td>\n",
       "      <td>positif</td>\n",
       "    </tr>\n",
       "    <tr>\n",
       "      <th>2</th>\n",
       "      <td>31</td>\n",
       "      <td>3</td>\n",
       "      <td>100</td>\n",
       "      <td>3</td>\n",
       "      <td>2</td>\n",
       "      <td>2</td>\n",
       "      <td>28</td>\n",
       "      <td>2</td>\n",
       "      <td>0</td>\n",
       "      <td>2</td>\n",
       "      <td>1</td>\n",
       "      <td>1</td>\n",
       "      <td>positif</td>\n",
       "    </tr>\n",
       "    <tr>\n",
       "      <th>3</th>\n",
       "      <td>27</td>\n",
       "      <td>2</td>\n",
       "      <td>75</td>\n",
       "      <td>3</td>\n",
       "      <td>2</td>\n",
       "      <td>2</td>\n",
       "      <td>27</td>\n",
       "      <td>2</td>\n",
       "      <td>1</td>\n",
       "      <td>2</td>\n",
       "      <td>1</td>\n",
       "      <td>2</td>\n",
       "      <td>positif</td>\n",
       "    </tr>\n",
       "    <tr>\n",
       "      <th>4</th>\n",
       "      <td>28</td>\n",
       "      <td>6</td>\n",
       "      <td>75</td>\n",
       "      <td>3</td>\n",
       "      <td>2</td>\n",
       "      <td>2</td>\n",
       "      <td>17</td>\n",
       "      <td>1</td>\n",
       "      <td>0</td>\n",
       "      <td>2</td>\n",
       "      <td>1</td>\n",
       "      <td>1</td>\n",
       "      <td>positif</td>\n",
       "    </tr>\n",
       "    <tr>\n",
       "      <th>5</th>\n",
       "      <td>33</td>\n",
       "      <td>2</td>\n",
       "      <td>100</td>\n",
       "      <td>3</td>\n",
       "      <td>1</td>\n",
       "      <td>1</td>\n",
       "      <td>25</td>\n",
       "      <td>2</td>\n",
       "      <td>0</td>\n",
       "      <td>2</td>\n",
       "      <td>1</td>\n",
       "      <td>1</td>\n",
       "      <td>positif</td>\n",
       "    </tr>\n",
       "    <tr>\n",
       "      <th>6</th>\n",
       "      <td>32</td>\n",
       "      <td>4</td>\n",
       "      <td>75</td>\n",
       "      <td>3</td>\n",
       "      <td>1</td>\n",
       "      <td>2</td>\n",
       "      <td>25</td>\n",
       "      <td>2</td>\n",
       "      <td>1</td>\n",
       "      <td>2</td>\n",
       "      <td>1</td>\n",
       "      <td>1</td>\n",
       "      <td>positif</td>\n",
       "    </tr>\n",
       "    <tr>\n",
       "      <th>7</th>\n",
       "      <td>30</td>\n",
       "      <td>1</td>\n",
       "      <td>50</td>\n",
       "      <td>3</td>\n",
       "      <td>1</td>\n",
       "      <td>2</td>\n",
       "      <td>29</td>\n",
       "      <td>2</td>\n",
       "      <td>1</td>\n",
       "      <td>2</td>\n",
       "      <td>1</td>\n",
       "      <td>1</td>\n",
       "      <td>positif</td>\n",
       "    </tr>\n",
       "    <tr>\n",
       "      <th>8</th>\n",
       "      <td>33</td>\n",
       "      <td>0</td>\n",
       "      <td>25</td>\n",
       "      <td>3</td>\n",
       "      <td>1</td>\n",
       "      <td>2</td>\n",
       "      <td>22</td>\n",
       "      <td>1</td>\n",
       "      <td>0</td>\n",
       "      <td>2</td>\n",
       "      <td>2</td>\n",
       "      <td>2</td>\n",
       "      <td>negatif</td>\n",
       "    </tr>\n",
       "    <tr>\n",
       "      <th>9</th>\n",
       "      <td>28</td>\n",
       "      <td>0</td>\n",
       "      <td>0</td>\n",
       "      <td>1</td>\n",
       "      <td>1</td>\n",
       "      <td>2</td>\n",
       "      <td>25</td>\n",
       "      <td>3</td>\n",
       "      <td>1</td>\n",
       "      <td>2</td>\n",
       "      <td>2</td>\n",
       "      <td>1</td>\n",
       "      <td>positif</td>\n",
       "    </tr>\n",
       "  </tbody>\n",
       "</table>\n",
       "</div>"
      ],
      "text/plain": [
       "   GEST  DILATE  EFFACE  CONSIS  CONTR  MEMBRAN  AGE  GRAVID  PARIT  DIAB  \\\n",
       "0    31       3     100       3      1        2   26       1      0     2   \n",
       "1    28       8       0       3      1        2   25       1      0     2   \n",
       "2    31       3     100       3      2        2   28       2      0     2   \n",
       "3    27       2      75       3      2        2   27       2      1     2   \n",
       "4    28       6      75       3      2        2   17       1      0     2   \n",
       "5    33       2     100       3      1        1   25       2      0     2   \n",
       "6    32       4      75       3      1        2   25       2      1     2   \n",
       "7    30       1      50       3      1        2   29       2      1     2   \n",
       "8    33       0      25       3      1        2   22       1      0     2   \n",
       "9    28       0       0       1      1        2   25       3      1     2   \n",
       "\n",
       "   TRANSF  GEMEL PREMATURE  \n",
       "0       2      1   positif  \n",
       "1       1      2   positif  \n",
       "2       1      1   positif  \n",
       "3       1      2   positif  \n",
       "4       1      1   positif  \n",
       "5       1      1   positif  \n",
       "6       1      1   positif  \n",
       "7       1      1   positif  \n",
       "8       2      2   negatif  \n",
       "9       2      1   positif  "
      ]
     },
     "execution_count": 73,
     "metadata": {},
     "output_type": "execute_result"
    }
   ],
   "source": [
    "prematures.head(10)"
   ]
  },
  {
   "cell_type": "code",
   "execution_count": 74,
   "metadata": {},
   "outputs": [
    {
     "data": {
      "text/plain": [
       "GEST          int64\n",
       "DILATE        int64\n",
       "EFFACE        int64\n",
       "CONSIS        int64\n",
       "CONTR         int64\n",
       "MEMBRAN       int64\n",
       "AGE           int64\n",
       "GRAVID        int64\n",
       "PARIT         int64\n",
       "DIAB          int64\n",
       "TRANSF        int64\n",
       "GEMEL         int64\n",
       "PREMATURE    object\n",
       "dtype: object"
      ]
     },
     "execution_count": 74,
     "metadata": {},
     "output_type": "execute_result"
    }
   ],
   "source": [
    "#### Types des variables \n",
    "prematures.dtypes"
   ]
  },
  {
   "cell_type": "code",
   "execution_count": 75,
   "metadata": {},
   "outputs": [
    {
     "name": "stdout",
     "output_type": "stream",
     "text": [
      "GEST          int64\n",
      "DILATE        int64\n",
      "EFFACE        int64\n",
      "CONSIS       object\n",
      "CONTR        object\n",
      "MEMBRAN      object\n",
      "AGE           int64\n",
      "GRAVID       object\n",
      "PARIT        object\n",
      "DIAB         object\n",
      "TRANSF       object\n",
      "GEMEL        object\n",
      "PREMATURE    object\n",
      "dtype: object\n"
     ]
    }
   ],
   "source": [
    "# using dictionary to convert specific columns : CONSIS CONTR MEMBRAN GRAVID PARIT DIAB TRANSF GEMEL\n",
    "convert_dict = {'CONSIS': str,\n",
    "                'CONTR': str,\n",
    "                'MEMBRAN' : str,\n",
    "                'GRAVID' : str,\n",
    "                'PARIT' : str,\n",
    "                'DIAB' : str,\n",
    "                'TRANSF' : str,\n",
    "                'GEMEL' : str\n",
    "               }\n",
    "  \n",
    "prematures = prematures.astype(convert_dict)\n",
    "print(prematures.dtypes)"
   ]
  },
  {
   "cell_type": "code",
   "execution_count": 76,
   "metadata": {},
   "outputs": [
    {
     "data": {
      "text/plain": [
       "(390, 13)"
      ]
     },
     "execution_count": 76,
     "metadata": {},
     "output_type": "execute_result"
    }
   ],
   "source": [
    "prematures.shape"
   ]
  },
  {
   "cell_type": "markdown",
   "metadata": {},
   "source": [
    "On peut maintenant se demander s'il y a des données manquantes dans ce dataset? Et si oui, où sont-elles localisées? La librairie Pandas nous offre des outils très utiles pour répondre à cette question et permet même de corriger les données manquantes grâce à des algorithmes puissants."
   ]
  },
  {
   "cell_type": "code",
   "execution_count": 77,
   "metadata": {},
   "outputs": [
    {
     "data": {
      "text/plain": [
       "GEST         0\n",
       "DILATE       0\n",
       "EFFACE       0\n",
       "CONSIS       0\n",
       "CONTR        0\n",
       "MEMBRAN      0\n",
       "AGE          0\n",
       "GRAVID       0\n",
       "PARIT        0\n",
       "DIAB         0\n",
       "TRANSF       0\n",
       "GEMEL        0\n",
       "PREMATURE    0\n",
       "dtype: int64"
      ]
     },
     "execution_count": 77,
     "metadata": {},
     "output_type": "execute_result"
    }
   ],
   "source": [
    "prematures.isna().sum()"
   ]
  },
  {
   "cell_type": "markdown",
   "metadata": {},
   "source": [
    "Cette commande nous montre qu'aucune des variables de la base de donnée ne contient de données manquantes !"
   ]
  },
  {
   "cell_type": "markdown",
   "metadata": {},
   "source": [
    "- Ensuite, regardons la variable **PREMATURE**"
   ]
  },
  {
   "cell_type": "code",
   "execution_count": 78,
   "metadata": {},
   "outputs": [
    {
     "data": {
      "text/plain": [
       "positif    266\n",
       "negatif    124\n",
       "Name: PREMATURE, dtype: int64"
      ]
     },
     "execution_count": 78,
     "metadata": {},
     "output_type": "execute_result"
    }
   ],
   "source": [
    "prematures[\"PREMATURE\"].value_counts()"
   ]
  },
  {
   "cell_type": "markdown",
   "metadata": {},
   "source": [
    "- Vérifions les modalités possibles de la variable PREMATURE : **Nos labels de classification**"
   ]
  },
  {
   "cell_type": "code",
   "execution_count": 79,
   "metadata": {},
   "outputs": [
    {
     "data": {
      "text/plain": [
       "array(['positif', 'negatif'], dtype=object)"
      ]
     },
     "execution_count": 79,
     "metadata": {},
     "output_type": "execute_result"
    }
   ],
   "source": [
    "prematures[\"PREMATURE\"].unique()"
   ]
  },
  {
   "cell_type": "code",
   "execution_count": 80,
   "metadata": {},
   "outputs": [
    {
     "data": {
      "text/plain": [
       "2"
      ]
     },
     "execution_count": 80,
     "metadata": {},
     "output_type": "execute_result"
    }
   ],
   "source": [
    "prematures[\"PREMATURE\"].nunique()"
   ]
  },
  {
   "cell_type": "markdown",
   "metadata": {},
   "source": [
    "# I - Analyse univariée et multivariée"
   ]
  },
  {
   "cell_type": "markdown",
   "metadata": {},
   "source": [
    "Affichons les graphiques d'analyse univariés (à minima un `pie` plot, un `boxplot`) et multivarié (par exemple `correlation` et `radviz`)"
   ]
  },
  {
   "cell_type": "code",
   "execution_count": 81,
   "metadata": {},
   "outputs": [
    {
     "data": {
      "text/plain": [
       "<matplotlib.axes._subplots.AxesSubplot at 0x1577eed5d60>"
      ]
     },
     "execution_count": 81,
     "metadata": {},
     "output_type": "execute_result"
    },
    {
     "data": {
      "image/png": "[encoded data removed]",
      "text/plain": [
       "<Figure size 432x288 with 1 Axes>"
      ]
     },
     "metadata": {},
     "output_type": "display_data"
    }
   ],
   "source": [
    "# affichage du pie plot pour la colonne PREMATURE du jeu de donnée avec pandas \n",
    "prematures.groupby('PREMATURE').size().plot(kind='pie', autopct='%.2f')"
   ]
  },
  {
   "cell_type": "markdown",
   "metadata": {},
   "source": [
    "Affichons quelques statistiques univariées sur le jeu de données (`min`, `max`, `mean`, `std`, `quantiles`, ...)"
   ]
  },
  {
   "cell_type": "code",
   "execution_count": 86,
   "metadata": {},
   "outputs": [
    {
     "data": {
      "text/html": [
       "<div>\n",
       "<style scoped>\n",
       "    .dataframe tbody tr th:only-of-type {\n",
       "        vertical-align: middle;\n",
       "    }\n",
       "\n",
       "    .dataframe tbody tr th {\n",
       "        vertical-align: top;\n",
       "    }\n",
       "\n",
       "    .dataframe thead th {\n",
       "        text-align: right;\n",
       "    }\n",
       "</style>\n",
       "<table border=\"1\" class=\"dataframe\">\n",
       "  <thead>\n",
       "    <tr style=\"text-align: right;\">\n",
       "      <th></th>\n",
       "      <th>GEST</th>\n",
       "      <th>DILATE</th>\n",
       "      <th>EFFACE</th>\n",
       "      <th>AGE</th>\n",
       "    </tr>\n",
       "  </thead>\n",
       "  <tbody>\n",
       "    <tr>\n",
       "      <th>count</th>\n",
       "      <td>390.000000</td>\n",
       "      <td>390.000000</td>\n",
       "      <td>390.000000</td>\n",
       "      <td>390.000000</td>\n",
       "    </tr>\n",
       "    <tr>\n",
       "      <th>mean</th>\n",
       "      <td>30.302564</td>\n",
       "      <td>1.241026</td>\n",
       "      <td>43.979487</td>\n",
       "      <td>26.341026</td>\n",
       "    </tr>\n",
       "    <tr>\n",
       "      <th>std</th>\n",
       "      <td>3.145281</td>\n",
       "      <td>1.307821</td>\n",
       "      <td>34.829435</td>\n",
       "      <td>5.150098</td>\n",
       "    </tr>\n",
       "    <tr>\n",
       "      <th>min</th>\n",
       "      <td>20.000000</td>\n",
       "      <td>0.000000</td>\n",
       "      <td>0.000000</td>\n",
       "      <td>15.000000</td>\n",
       "    </tr>\n",
       "    <tr>\n",
       "      <th>25%</th>\n",
       "      <td>28.000000</td>\n",
       "      <td>0.000000</td>\n",
       "      <td>0.000000</td>\n",
       "      <td>23.000000</td>\n",
       "    </tr>\n",
       "    <tr>\n",
       "      <th>50%</th>\n",
       "      <td>31.000000</td>\n",
       "      <td>1.000000</td>\n",
       "      <td>50.000000</td>\n",
       "      <td>26.000000</td>\n",
       "    </tr>\n",
       "    <tr>\n",
       "      <th>75%</th>\n",
       "      <td>33.000000</td>\n",
       "      <td>2.000000</td>\n",
       "      <td>75.000000</td>\n",
       "      <td>30.000000</td>\n",
       "    </tr>\n",
       "    <tr>\n",
       "      <th>max</th>\n",
       "      <td>35.000000</td>\n",
       "      <td>8.000000</td>\n",
       "      <td>100.000000</td>\n",
       "      <td>42.000000</td>\n",
       "    </tr>\n",
       "  </tbody>\n",
       "</table>\n",
       "</div>"
      ],
      "text/plain": [
       "             GEST      DILATE      EFFACE         AGE\n",
       "count  390.000000  390.000000  390.000000  390.000000\n",
       "mean    30.302564    1.241026   43.979487   26.341026\n",
       "std      3.145281    1.307821   34.829435    5.150098\n",
       "min     20.000000    0.000000    0.000000   15.000000\n",
       "25%     28.000000    0.000000    0.000000   23.000000\n",
       "50%     31.000000    1.000000   50.000000   26.000000\n",
       "75%     33.000000    2.000000   75.000000   30.000000\n",
       "max     35.000000    8.000000  100.000000   42.000000"
      ]
     },
     "execution_count": 86,
     "metadata": {},
     "output_type": "execute_result"
    }
   ],
   "source": [
    "# Affichage des statistiques du jeu de données \n",
    "prematures.describe()"
   ]
  },
  {
   "cell_type": "code",
   "execution_count": 225,
   "metadata": {},
   "outputs": [
    {
     "data": {
      "text/html": [
       "<div>\n",
       "<style scoped>\n",
       "    .dataframe tbody tr th:only-of-type {\n",
       "        vertical-align: middle;\n",
       "    }\n",
       "\n",
       "    .dataframe tbody tr th {\n",
       "        vertical-align: top;\n",
       "    }\n",
       "\n",
       "    .dataframe thead th {\n",
       "        text-align: right;\n",
       "    }\n",
       "</style>\n",
       "<table border=\"1\" class=\"dataframe\">\n",
       "  <thead>\n",
       "    <tr style=\"text-align: right;\">\n",
       "      <th></th>\n",
       "      <th>GEST</th>\n",
       "      <th>DILATE</th>\n",
       "      <th>EFFACE</th>\n",
       "      <th>AGE</th>\n",
       "    </tr>\n",
       "  </thead>\n",
       "  <tbody>\n",
       "    <tr>\n",
       "      <th>GEST</th>\n",
       "      <td>1.000000</td>\n",
       "      <td>-0.038397</td>\n",
       "      <td>0.112202</td>\n",
       "      <td>0.045032</td>\n",
       "    </tr>\n",
       "    <tr>\n",
       "      <th>DILATE</th>\n",
       "      <td>-0.038397</td>\n",
       "      <td>1.000000</td>\n",
       "      <td>0.531735</td>\n",
       "      <td>-0.073684</td>\n",
       "    </tr>\n",
       "    <tr>\n",
       "      <th>EFFACE</th>\n",
       "      <td>0.112202</td>\n",
       "      <td>0.531735</td>\n",
       "      <td>1.000000</td>\n",
       "      <td>-0.040848</td>\n",
       "    </tr>\n",
       "    <tr>\n",
       "      <th>AGE</th>\n",
       "      <td>0.045032</td>\n",
       "      <td>-0.073684</td>\n",
       "      <td>-0.040848</td>\n",
       "      <td>1.000000</td>\n",
       "    </tr>\n",
       "  </tbody>\n",
       "</table>\n",
       "</div>"
      ],
      "text/plain": [
       "            GEST    DILATE    EFFACE       AGE\n",
       "GEST    1.000000 -0.038397  0.112202  0.045032\n",
       "DILATE -0.038397  1.000000  0.531735 -0.073684\n",
       "EFFACE  0.112202  0.531735  1.000000 -0.040848\n",
       "AGE     0.045032 -0.073684 -0.040848  1.000000"
      ]
     },
     "execution_count": 225,
     "metadata": {},
     "output_type": "execute_result"
    }
   ],
   "source": [
    "# calcul de la matrice de corrélation\n",
    "corrMatrix = prematures.corr()\n",
    "corrMatrix"
   ]
  },
  {
   "cell_type": "markdown",
   "metadata": {},
   "source": [
    "Une relation linéaire positive existe entre les variables GEST et EFFACE, GEST et AGE, et DILATE et EFFACE.\n",
    "Pour ces paires, les coefficients de corrélation de Pearson sont les suivants :\n",
    "  - GEST et EFFACE, 0.112202\n",
    "  - GEST et AGE, 0.045032\n",
    "  - DILATE et EFFACE, 0.531735\n",
    "  \n",
    "Ces valeurs indiquent une relation positive faible entre les variables."
   ]
  },
  {
   "cell_type": "markdown",
   "metadata": {},
   "source": [
    "Une relation linéaire négative existe pour les paires suivantes, avec des coefficients de corrélation de Pearson négatifs.\n",
    "\n",
    "  - DILATE et GEST, -0.038397\n",
    "  - DILATE et AGE, -0.073684\n",
    "  - EFFACE et AGE, -0.040848\n",
    "    \n",
    "La relation entre ces variables est négative, ce qui indique que, plus DILATE augmente, plus GEST et AGE diminuent, et, plus EFFACE augmente, plus AGE diminue."
   ]
  },
  {
   "cell_type": "code",
   "execution_count": 226,
   "metadata": {},
   "outputs": [
    {
     "data": {
      "image/png": "[encoded data removed]",
      "text/plain": [
       "<Figure size 432x288 with 2 Axes>"
      ]
     },
     "metadata": {
      "needs_background": "light"
     },
     "output_type": "display_data"
    }
   ],
   "source": [
    "sns.heatmap(corrMatrix, annot=True)\n",
    "plt.show()"
   ]
  },
  {
   "cell_type": "markdown",
   "metadata": {},
   "source": [
    "### Visualisation des données à l'aide de PCA (Principal Component Analysis)"
   ]
  },
  {
   "cell_type": "markdown",
   "metadata": {},
   "source": [
    "L'analyse en composantes principales (ACP) est une technique de **réduction de dimensionnalité linéaire** qui peut être utilisée pour extraire des informations d'un espace de grande dimension en les projetant dans un sous-espace de dimension inférieure. Il essaie de préserver les parties essentielles qui ont plus de variation des données et de supprimer les parties non essentielles avec moins de variation."
   ]
  },
  {
   "cell_type": "markdown",
   "metadata": {},
   "source": [
    "Une chose importante à noter ici est que nous utilisons PCA pour découvrir comment les variables sont corrélées ou comprendre la distribution de quelques variables."
   ]
  },
  {
   "cell_type": "code",
   "execution_count": 239,
   "metadata": {},
   "outputs": [],
   "source": [
    "features = ['GEST', 'DILATE', 'EFFACE', 'AGE']\n",
    "X = prematures[features]"
   ]
  },
  {
   "cell_type": "code",
   "execution_count": 240,
   "metadata": {},
   "outputs": [],
   "source": [
    "#normalisation des données en utilisant standard scaler\n",
    "from sklearn.preprocessing import StandardScaler\n",
    "X = StandardScaler().fit_transform(X) # normalizing the features"
   ]
  },
  {
   "cell_type": "code",
   "execution_count": 241,
   "metadata": {},
   "outputs": [
    {
     "data": {
      "text/plain": [
       "(390, 4)"
      ]
     },
     "execution_count": 241,
     "metadata": {},
     "output_type": "execute_result"
    }
   ],
   "source": [
    "X.shape"
   ]
  },
  {
   "cell_type": "code",
   "execution_count": 242,
   "metadata": {},
   "outputs": [
    {
     "data": {
      "text/plain": [
       "(4.7824991830006746e-17, 0.9999999999999999)"
      ]
     },
     "execution_count": 242,
     "metadata": {},
     "output_type": "execute_result"
    }
   ],
   "source": [
    "# Vérifions si les données normalisées ont une moyenne de 0 et un écart type de 1.\n",
    "np.mean(X),np.std(X)"
   ]
  },
  {
   "cell_type": "code",
   "execution_count": 243,
   "metadata": {},
   "outputs": [],
   "source": [
    "# L’analyse en composantes principales PCA\n",
    "# PCA avec deux composantes\n",
    "from sklearn.decomposition import PCA\n",
    "pca = PCA(n_components=2)\n",
    "X_reduit = pca.fit_transform(X)"
   ]
  },
  {
   "cell_type": "code",
   "execution_count": 244,
   "metadata": {},
   "outputs": [],
   "source": [
    "# créons un DataFrame qui aura les valeurs de composant principal\n",
    "principal_composant_Df = pd.DataFrame(data = X_reduit\n",
    "             , columns = ['principal component 1', 'principal component 2'])"
   ]
  },
  {
   "cell_type": "code",
   "execution_count": 245,
   "metadata": {},
   "outputs": [
    {
     "data": {
      "text/html": [
       "<div>\n",
       "<style scoped>\n",
       "    .dataframe tbody tr th:only-of-type {\n",
       "        vertical-align: middle;\n",
       "    }\n",
       "\n",
       "    .dataframe tbody tr th {\n",
       "        vertical-align: top;\n",
       "    }\n",
       "\n",
       "    .dataframe thead th {\n",
       "        text-align: right;\n",
       "    }\n",
       "</style>\n",
       "<table border=\"1\" class=\"dataframe\">\n",
       "  <thead>\n",
       "    <tr style=\"text-align: right;\">\n",
       "      <th></th>\n",
       "      <th>principal component 1</th>\n",
       "      <th>principal component 2</th>\n",
       "    </tr>\n",
       "  </thead>\n",
       "  <tbody>\n",
       "    <tr>\n",
       "      <th>0</th>\n",
       "      <td>2.092122</td>\n",
       "      <td>-0.203364</td>\n",
       "    </tr>\n",
       "    <tr>\n",
       "      <th>1</th>\n",
       "      <td>2.679380</td>\n",
       "      <td>1.410836</td>\n",
       "    </tr>\n",
       "    <tr>\n",
       "      <th>2</th>\n",
       "      <td>2.038134</td>\n",
       "      <td>-0.442719</td>\n",
       "    </tr>\n",
       "    <tr>\n",
       "      <th>3</th>\n",
       "      <td>0.923103</td>\n",
       "      <td>0.674485</td>\n",
       "    </tr>\n",
       "    <tr>\n",
       "      <th>4</th>\n",
       "      <td>3.345080</td>\n",
       "      <td>1.934481</td>\n",
       "    </tr>\n",
       "  </tbody>\n",
       "</table>\n",
       "</div>"
      ],
      "text/plain": [
       "   principal component 1  principal component 2\n",
       "0               2.092122              -0.203364\n",
       "1               2.679380               1.410836\n",
       "2               2.038134              -0.442719\n",
       "3               0.923103               0.674485\n",
       "4               3.345080               1.934481"
      ]
     },
     "execution_count": 245,
     "metadata": {},
     "output_type": "execute_result"
    }
   ],
   "source": [
    "principal_composant_Df.head()"
   ]
  },
  {
   "cell_type": "code",
   "execution_count": 246,
   "metadata": {},
   "outputs": [
    {
     "name": "stdout",
     "output_type": "stream",
     "text": [
      "Variance expliquée pour chaque composante: [0.38688876 0.26496261]\n"
     ]
    }
   ],
   "source": [
    "# pourcentage de la variance expliquée pour chaque composantes\n",
    "print('Variance expliquée pour chaque composante: %s' % str(pca.explained_variance_ratio_))"
   ]
  },
  {
   "cell_type": "code",
   "execution_count": 247,
   "metadata": {},
   "outputs": [
    {
     "data": {
      "image/png": "[encoded data removed]",
      "text/plain": [
       "<Figure size 576x432 with 1 Axes>"
      ]
     },
     "metadata": {
      "needs_background": "light"
     },
     "output_type": "display_data"
    }
   ],
   "source": [
    "plt.figure(figsize=(8,6))\n",
    "plt.xlabel(\"1ère composante du PCA\")\n",
    "plt.ylabel(\"2ème composante du PCA\")\n",
    "plt.title('PCA de la dataset prematures')\n",
    "targets = ['negatif', 'positif']\n",
    "colors = ['r', 'g']\n",
    "\n",
    "for target, color in zip(targets,colors):\n",
    "    indicesToKeep = prematures['PREMATURE'] == target\n",
    "    plt.scatter(principal_composant_Df.loc[indicesToKeep, 'principal component 1']\n",
    "               , principal_composant_Df.loc[indicesToKeep, 'principal component 2'], c = color, s = 50)\n",
    "\n",
    "plt.legend(targets,prop={'size': 15})\n",
    "plt.show()"
   ]
  },
  {
   "cell_type": "markdown",
   "metadata": {},
   "source": [
    "À partir du graphique ci-dessus, nous pouvons observer que les deux classes `positif` et `negatif`, lorsqu'elles sont projetées dans un espace bidimensionnel, ne peuvent pas être linéairement séparables."
   ]
  },
  {
   "cell_type": "markdown",
   "metadata": {},
   "source": [
    "### 1. Etude de la variable \"GEST\" en fonction de la prématurité du bébé"
   ]
  },
  {
   "cell_type": "code",
   "execution_count": 88,
   "metadata": {},
   "outputs": [
    {
     "data": {
      "text/plain": [
       "Text(0.5, 0, 'Prématurité du bébé')"
      ]
     },
     "execution_count": 88,
     "metadata": {},
     "output_type": "execute_result"
    },
    {
     "data": {
      "image/png": "[encoded data removed]",
      "text/plain": [
       "<Figure size 720x576 with 1 Axes>"
      ]
     },
     "metadata": {
      "needs_background": "light"
     },
     "output_type": "display_data"
    }
   ],
   "source": [
    "# affichage de la boite à moustache (boxplot) de la variable 'GEST' séparés par type d'accouchement (variable 'PREMATURE')\n",
    "plt.figure(figsize=(10,8)) \n",
    "sns.boxplot(y='GEST', x='PREMATURE', \n",
    "                 data=prematures, \n",
    "                 palette=\"colorblind\")\n",
    "plt.ylabel(\"Age gestationnel en semaines à l'entrée dans l'étude\", size=14)\n",
    "plt.xlabel(\"Prématurité du bébé\", size=14)"
   ]
  },
  {
   "cell_type": "code",
   "execution_count": 89,
   "metadata": {},
   "outputs": [
    {
     "data": {
      "text/html": [
       "<div>\n",
       "<style scoped>\n",
       "    .dataframe tbody tr th:only-of-type {\n",
       "        vertical-align: middle;\n",
       "    }\n",
       "\n",
       "    .dataframe tbody tr th {\n",
       "        vertical-align: top;\n",
       "    }\n",
       "\n",
       "    .dataframe thead tr th {\n",
       "        text-align: left;\n",
       "    }\n",
       "\n",
       "    .dataframe thead tr:last-of-type th {\n",
       "        text-align: right;\n",
       "    }\n",
       "</style>\n",
       "<table border=\"1\" class=\"dataframe\">\n",
       "  <thead>\n",
       "    <tr>\n",
       "      <th></th>\n",
       "      <th colspan=\"8\" halign=\"left\">GEST</th>\n",
       "    </tr>\n",
       "    <tr>\n",
       "      <th></th>\n",
       "      <th>count</th>\n",
       "      <th>mean</th>\n",
       "      <th>std</th>\n",
       "      <th>min</th>\n",
       "      <th>25%</th>\n",
       "      <th>50%</th>\n",
       "      <th>75%</th>\n",
       "      <th>max</th>\n",
       "    </tr>\n",
       "    <tr>\n",
       "      <th>PREMATURE</th>\n",
       "      <th></th>\n",
       "      <th></th>\n",
       "      <th></th>\n",
       "      <th></th>\n",
       "      <th></th>\n",
       "      <th></th>\n",
       "      <th></th>\n",
       "      <th></th>\n",
       "    </tr>\n",
       "  </thead>\n",
       "  <tbody>\n",
       "    <tr>\n",
       "      <th>negatif</th>\n",
       "      <td>124.0</td>\n",
       "      <td>30.661290</td>\n",
       "      <td>3.011866</td>\n",
       "      <td>20.0</td>\n",
       "      <td>29.0</td>\n",
       "      <td>31.5</td>\n",
       "      <td>33.0</td>\n",
       "      <td>35.0</td>\n",
       "    </tr>\n",
       "    <tr>\n",
       "      <th>positif</th>\n",
       "      <td>266.0</td>\n",
       "      <td>30.135338</td>\n",
       "      <td>3.197362</td>\n",
       "      <td>21.0</td>\n",
       "      <td>28.0</td>\n",
       "      <td>31.0</td>\n",
       "      <td>33.0</td>\n",
       "      <td>35.0</td>\n",
       "    </tr>\n",
       "  </tbody>\n",
       "</table>\n",
       "</div>"
      ],
      "text/plain": [
       "            GEST                                                   \n",
       "           count       mean       std   min   25%   50%   75%   max\n",
       "PREMATURE                                                          \n",
       "negatif    124.0  30.661290  3.011866  20.0  29.0  31.5  33.0  35.0\n",
       "positif    266.0  30.135338  3.197362  21.0  28.0  31.0  33.0  35.0"
      ]
     },
     "execution_count": 89,
     "metadata": {},
     "output_type": "execute_result"
    }
   ],
   "source": [
    "# Résumés statistiques\n",
    "prematures[[\"PREMATURE\", \"GEST\"]].groupby(\"PREMATURE\").describe()"
   ]
  },
  {
   "cell_type": "markdown",
   "metadata": {},
   "source": [
    "### 2. Etude de la variable \"Dilatation du col\" en fonction de la prématurité du bébé"
   ]
  },
  {
   "cell_type": "code",
   "execution_count": 90,
   "metadata": {},
   "outputs": [
    {
     "data": {
      "text/plain": [
       "Text(0.5, 0, 'Prématurité du bébé')"
      ]
     },
     "execution_count": 90,
     "metadata": {},
     "output_type": "execute_result"
    },
    {
     "data": {
      "image/png": "[encoded data removed]",
      "text/plain": [
       "<Figure size 720x576 with 1 Axes>"
      ]
     },
     "metadata": {
      "needs_background": "light"
     },
     "output_type": "display_data"
    }
   ],
   "source": [
    "# affichage de la boite à moustache (boxplot) de la variable 'GEST' séparés par type d'accouchement (variable 'PREMATURE')\n",
    "plt.figure(figsize=(10,8)) \n",
    "sns.boxplot(y='DILATE', x='PREMATURE', \n",
    "                 data=prematures, \n",
    "                 palette=\"colorblind\")\n",
    "plt.ylabel(\"Dilatation du col\", size=14)\n",
    "plt.xlabel(\"Prématurité du bébé\", size=14)"
   ]
  },
  {
   "cell_type": "code",
   "execution_count": 91,
   "metadata": {},
   "outputs": [
    {
     "data": {
      "text/html": [
       "<div>\n",
       "<style scoped>\n",
       "    .dataframe tbody tr th:only-of-type {\n",
       "        vertical-align: middle;\n",
       "    }\n",
       "\n",
       "    .dataframe tbody tr th {\n",
       "        vertical-align: top;\n",
       "    }\n",
       "\n",
       "    .dataframe thead tr th {\n",
       "        text-align: left;\n",
       "    }\n",
       "\n",
       "    .dataframe thead tr:last-of-type th {\n",
       "        text-align: right;\n",
       "    }\n",
       "</style>\n",
       "<table border=\"1\" class=\"dataframe\">\n",
       "  <thead>\n",
       "    <tr>\n",
       "      <th></th>\n",
       "      <th colspan=\"8\" halign=\"left\">DILATE</th>\n",
       "    </tr>\n",
       "    <tr>\n",
       "      <th></th>\n",
       "      <th>count</th>\n",
       "      <th>mean</th>\n",
       "      <th>std</th>\n",
       "      <th>min</th>\n",
       "      <th>25%</th>\n",
       "      <th>50%</th>\n",
       "      <th>75%</th>\n",
       "      <th>max</th>\n",
       "    </tr>\n",
       "    <tr>\n",
       "      <th>PREMATURE</th>\n",
       "      <th></th>\n",
       "      <th></th>\n",
       "      <th></th>\n",
       "      <th></th>\n",
       "      <th></th>\n",
       "      <th></th>\n",
       "      <th></th>\n",
       "      <th></th>\n",
       "    </tr>\n",
       "  </thead>\n",
       "  <tbody>\n",
       "    <tr>\n",
       "      <th>negatif</th>\n",
       "      <td>124.0</td>\n",
       "      <td>0.669355</td>\n",
       "      <td>0.783174</td>\n",
       "      <td>0.0</td>\n",
       "      <td>0.0</td>\n",
       "      <td>0.5</td>\n",
       "      <td>1.0</td>\n",
       "      <td>3.0</td>\n",
       "    </tr>\n",
       "    <tr>\n",
       "      <th>positif</th>\n",
       "      <td>266.0</td>\n",
       "      <td>1.507519</td>\n",
       "      <td>1.414860</td>\n",
       "      <td>0.0</td>\n",
       "      <td>0.0</td>\n",
       "      <td>1.0</td>\n",
       "      <td>2.0</td>\n",
       "      <td>8.0</td>\n",
       "    </tr>\n",
       "  </tbody>\n",
       "</table>\n",
       "</div>"
      ],
      "text/plain": [
       "          DILATE                                             \n",
       "           count      mean       std  min  25%  50%  75%  max\n",
       "PREMATURE                                                    \n",
       "negatif    124.0  0.669355  0.783174  0.0  0.0  0.5  1.0  3.0\n",
       "positif    266.0  1.507519  1.414860  0.0  0.0  1.0  2.0  8.0"
      ]
     },
     "execution_count": 91,
     "metadata": {},
     "output_type": "execute_result"
    }
   ],
   "source": [
    "# Résumés statistiques\n",
    "prematures[[\"PREMATURE\", \"DILATE\"]].groupby(\"PREMATURE\").describe()"
   ]
  },
  {
   "cell_type": "markdown",
   "metadata": {},
   "source": [
    "### 3. Etude de la variable \"Effacement du col\" en fonction de la prématurité du bébé"
   ]
  },
  {
   "cell_type": "code",
   "execution_count": 83,
   "metadata": {},
   "outputs": [
    {
     "data": {
      "image/png": "[encoded data removed]",
      "text/plain": [
       "<Figure size 720x576 with 1 Axes>"
      ]
     },
     "metadata": {
      "needs_background": "light"
     },
     "output_type": "display_data"
    }
   ],
   "source": [
    "plt.figure(figsize=(10, 8))\n",
    "# make boxplot with Seaborn\n",
    "sns.boxplot(y='EFFACE', x='PREMATURE', \n",
    "                 data=prematures, \n",
    "                 palette=\"colorblind\")\n",
    "# Set labels and title\n",
    "plt.ylabel(\"Effacement du col\", size=14)\n",
    "plt.xlabel(\"Prématurité du bébé\", size=14)\n",
    "plt.title(\"Distribution de l'effacement du col en fonction de la prématurité du bébé\", size=18)\n",
    "plt.savefig(\"boxplot_EFFACE_PREMATURE.png\")"
   ]
  },
  {
   "cell_type": "code",
   "execution_count": 84,
   "metadata": {},
   "outputs": [
    {
     "data": {
      "text/html": [
       "<div>\n",
       "<style scoped>\n",
       "    .dataframe tbody tr th:only-of-type {\n",
       "        vertical-align: middle;\n",
       "    }\n",
       "\n",
       "    .dataframe tbody tr th {\n",
       "        vertical-align: top;\n",
       "    }\n",
       "\n",
       "    .dataframe thead tr th {\n",
       "        text-align: left;\n",
       "    }\n",
       "\n",
       "    .dataframe thead tr:last-of-type th {\n",
       "        text-align: right;\n",
       "    }\n",
       "</style>\n",
       "<table border=\"1\" class=\"dataframe\">\n",
       "  <thead>\n",
       "    <tr>\n",
       "      <th></th>\n",
       "      <th colspan=\"8\" halign=\"left\">EFFACE</th>\n",
       "    </tr>\n",
       "    <tr>\n",
       "      <th></th>\n",
       "      <th>count</th>\n",
       "      <th>mean</th>\n",
       "      <th>std</th>\n",
       "      <th>min</th>\n",
       "      <th>25%</th>\n",
       "      <th>50%</th>\n",
       "      <th>75%</th>\n",
       "      <th>max</th>\n",
       "    </tr>\n",
       "    <tr>\n",
       "      <th>PREMATURE</th>\n",
       "      <th></th>\n",
       "      <th></th>\n",
       "      <th></th>\n",
       "      <th></th>\n",
       "      <th></th>\n",
       "      <th></th>\n",
       "      <th></th>\n",
       "      <th></th>\n",
       "    </tr>\n",
       "  </thead>\n",
       "  <tbody>\n",
       "    <tr>\n",
       "      <th>negatif</th>\n",
       "      <td>124.0</td>\n",
       "      <td>26.806452</td>\n",
       "      <td>26.128413</td>\n",
       "      <td>0.0</td>\n",
       "      <td>0.00</td>\n",
       "      <td>25.0</td>\n",
       "      <td>50.0</td>\n",
       "      <td>99.0</td>\n",
       "    </tr>\n",
       "    <tr>\n",
       "      <th>positif</th>\n",
       "      <td>266.0</td>\n",
       "      <td>51.984962</td>\n",
       "      <td>35.517943</td>\n",
       "      <td>0.0</td>\n",
       "      <td>21.25</td>\n",
       "      <td>50.0</td>\n",
       "      <td>80.0</td>\n",
       "      <td>100.0</td>\n",
       "    </tr>\n",
       "  </tbody>\n",
       "</table>\n",
       "</div>"
      ],
      "text/plain": [
       "          EFFACE                                                     \n",
       "           count       mean        std  min    25%   50%   75%    max\n",
       "PREMATURE                                                            \n",
       "negatif    124.0  26.806452  26.128413  0.0   0.00  25.0  50.0   99.0\n",
       "positif    266.0  51.984962  35.517943  0.0  21.25  50.0  80.0  100.0"
      ]
     },
     "execution_count": 84,
     "metadata": {},
     "output_type": "execute_result"
    }
   ],
   "source": [
    "# Résumés statistiques\n",
    "prematures[[\"PREMATURE\", \"EFFACE\"]].groupby(\"PREMATURE\").describe()"
   ]
  },
  {
   "cell_type": "markdown",
   "metadata": {},
   "source": [
    "### Commentaire \n",
    "\n",
    "  **- Chez les femmes n'ayant pas fait un accouchement prématuré**, l'effacement du col s'étend entre 0 et 99 % durant \n",
    "    l'accouchement. La moitié des femmes ont un effacement du col compris entre 0 et 50 % durant l'accouchement.\n",
    "    L'effacement du col médian est de 25 % (l'effacement du col moyen est de 26,81 % avec un écart-type de 26,13 %).\n",
    "    \n",
    "  **- Chez les femmes ayant fait un accouchement prématuré**, l'effacement du col s'étend entre 0 et 100 % durant \n",
    "    l'accouchement. La moitié des femmes ont un effacement du col compris entre 21.25 et 80 % durant l'accouchement.\n",
    "    L'effacement du col médian est de 50 % (l'effacement du col moyen est de 51,98 % avec un écart-type de 35,52 %).\n",
    "   "
   ]
  },
  {
   "cell_type": "markdown",
   "metadata": {},
   "source": [
    "### 4. Etude de la variable 'AGE de la patiente\" en fonction de la prématurité du bébé"
   ]
  },
  {
   "cell_type": "code",
   "execution_count": 122,
   "metadata": {},
   "outputs": [
    {
     "data": {
      "image/png": "[encoded data removed]",
      "text/plain": [
       "<Figure size 720x576 with 1 Axes>"
      ]
     },
     "metadata": {
      "needs_background": "light"
     },
     "output_type": "display_data"
    }
   ],
   "source": [
    "plt.figure(figsize=(10, 8))\n",
    "# make boxplot with Seaborn\n",
    "sns.boxplot(y='AGE', x='PREMATURE', \n",
    "                 data=prematures, \n",
    "                 palette=\"colorblind\")\n",
    "# Set labels and title\n",
    "plt.ylabel(\"Age de la patiente\", size=14)\n",
    "plt.xlabel(\"Prématurité du bébé\", size=14)\n",
    "plt.title(\"Distribution de l'âge de la patiente en fonction de la prématurité du bébé\", size=18)\n",
    "plt.savefig(\"boxplot_AGE_PREMATURE.png\")"
   ]
  },
  {
   "cell_type": "code",
   "execution_count": 94,
   "metadata": {},
   "outputs": [
    {
     "data": {
      "text/html": [
       "<div>\n",
       "<style scoped>\n",
       "    .dataframe tbody tr th:only-of-type {\n",
       "        vertical-align: middle;\n",
       "    }\n",
       "\n",
       "    .dataframe tbody tr th {\n",
       "        vertical-align: top;\n",
       "    }\n",
       "\n",
       "    .dataframe thead tr th {\n",
       "        text-align: left;\n",
       "    }\n",
       "\n",
       "    .dataframe thead tr:last-of-type th {\n",
       "        text-align: right;\n",
       "    }\n",
       "</style>\n",
       "<table border=\"1\" class=\"dataframe\">\n",
       "  <thead>\n",
       "    <tr>\n",
       "      <th></th>\n",
       "      <th colspan=\"8\" halign=\"left\">AGE</th>\n",
       "    </tr>\n",
       "    <tr>\n",
       "      <th></th>\n",
       "      <th>count</th>\n",
       "      <th>mean</th>\n",
       "      <th>std</th>\n",
       "      <th>min</th>\n",
       "      <th>25%</th>\n",
       "      <th>50%</th>\n",
       "      <th>75%</th>\n",
       "      <th>max</th>\n",
       "    </tr>\n",
       "    <tr>\n",
       "      <th>PREMATURE</th>\n",
       "      <th></th>\n",
       "      <th></th>\n",
       "      <th></th>\n",
       "      <th></th>\n",
       "      <th></th>\n",
       "      <th></th>\n",
       "      <th></th>\n",
       "      <th></th>\n",
       "    </tr>\n",
       "  </thead>\n",
       "  <tbody>\n",
       "    <tr>\n",
       "      <th>negatif</th>\n",
       "      <td>124.0</td>\n",
       "      <td>27.056452</td>\n",
       "      <td>5.290431</td>\n",
       "      <td>15.0</td>\n",
       "      <td>23.0</td>\n",
       "      <td>27.5</td>\n",
       "      <td>30.0</td>\n",
       "      <td>42.0</td>\n",
       "    </tr>\n",
       "    <tr>\n",
       "      <th>positif</th>\n",
       "      <td>266.0</td>\n",
       "      <td>26.007519</td>\n",
       "      <td>5.058893</td>\n",
       "      <td>15.0</td>\n",
       "      <td>23.0</td>\n",
       "      <td>26.0</td>\n",
       "      <td>29.0</td>\n",
       "      <td>40.0</td>\n",
       "    </tr>\n",
       "  </tbody>\n",
       "</table>\n",
       "</div>"
      ],
      "text/plain": [
       "             AGE                                                   \n",
       "           count       mean       std   min   25%   50%   75%   max\n",
       "PREMATURE                                                          \n",
       "negatif    124.0  27.056452  5.290431  15.0  23.0  27.5  30.0  42.0\n",
       "positif    266.0  26.007519  5.058893  15.0  23.0  26.0  29.0  40.0"
      ]
     },
     "execution_count": 94,
     "metadata": {},
     "output_type": "execute_result"
    }
   ],
   "source": [
    "# Résumés statistiques\n",
    "prematures[[\"PREMATURE\", \"AGE\"]].groupby(\"PREMATURE\").describe()"
   ]
  },
  {
   "cell_type": "markdown",
   "metadata": {},
   "source": [
    "L'âge moyen chez les femmes ayant fait un accouchement prématuré est-il significativement différent de celui des femmes ayant fait un accouchement normal?\n",
    "\n",
    "Comparons les moyennes des deux groupes pour voir s'ils sont `significativement différentes`."
   ]
  },
  {
   "cell_type": "code",
   "execution_count": 95,
   "metadata": {},
   "outputs": [
    {
     "name": "stdout",
     "output_type": "stream",
     "text": [
      "Ttest_indResult(statistic=-1.8791434992676999, pvalue=0.060974241825219946)\n"
     ]
    }
   ],
   "source": [
    "prematures_mask_positif=prematures['PREMATURE']=='positif'\n",
    "prematures_positif = prematures[prematures_mask_positif]\n",
    "\n",
    "prematures_mask_negatif=prematures['PREMATURE']=='negatif'\n",
    "prematures_negatif = prematures[prematures_mask_negatif]\n",
    "\n",
    "#### Le test de Student permet de comparer deux échantillons.\n",
    "#### Il va estimer la probabilité que la différence entre ces deux échantillons soit due au hasard (la p-value).\n",
    "\n",
    "import scipy.stats as stats\n",
    "test = stats.ttest_ind(prematures_positif['AGE'],prematures_negatif['AGE']) ; print(test)"
   ]
  },
  {
   "cell_type": "markdown",
   "metadata": {},
   "source": [
    "La valeur renvoyée de p-value est ici de 0.0609..., il n'y a `donc pas de différence significative entre les moyennes` des deux groupes de femmes."
   ]
  },
  {
   "cell_type": "markdown",
   "metadata": {},
   "source": [
    "### 5. Etude de la variable \"Consistance du col\" en fonction de la prématurité du bébé"
   ]
  },
  {
   "cell_type": "markdown",
   "metadata": {},
   "source": [
    "Nous allons faire un tri croisé sur les colonnes `CONSIS` et `PREMATURE` afin d'obtenir un tableau de contingence."
   ]
  },
  {
   "cell_type": "code",
   "execution_count": 96,
   "metadata": {},
   "outputs": [
    {
     "data": {
      "text/html": [
       "<div>\n",
       "<style scoped>\n",
       "    .dataframe tbody tr th:only-of-type {\n",
       "        vertical-align: middle;\n",
       "    }\n",
       "\n",
       "    .dataframe tbody tr th {\n",
       "        vertical-align: top;\n",
       "    }\n",
       "\n",
       "    .dataframe thead th {\n",
       "        text-align: right;\n",
       "    }\n",
       "</style>\n",
       "<table border=\"1\" class=\"dataframe\">\n",
       "  <thead>\n",
       "    <tr style=\"text-align: right;\">\n",
       "      <th>PREMATURE</th>\n",
       "      <th>negatif</th>\n",
       "      <th>positif</th>\n",
       "    </tr>\n",
       "    <tr>\n",
       "      <th>CONSIS</th>\n",
       "      <th></th>\n",
       "      <th></th>\n",
       "    </tr>\n",
       "  </thead>\n",
       "  <tbody>\n",
       "    <tr>\n",
       "      <th>1</th>\n",
       "      <td>26</td>\n",
       "      <td>29</td>\n",
       "    </tr>\n",
       "    <tr>\n",
       "      <th>2</th>\n",
       "      <td>50</td>\n",
       "      <td>77</td>\n",
       "    </tr>\n",
       "    <tr>\n",
       "      <th>3</th>\n",
       "      <td>48</td>\n",
       "      <td>160</td>\n",
       "    </tr>\n",
       "  </tbody>\n",
       "</table>\n",
       "</div>"
      ],
      "text/plain": [
       "PREMATURE  negatif  positif\n",
       "CONSIS                     \n",
       "1               26       29\n",
       "2               50       77\n",
       "3               48      160"
      ]
     },
     "execution_count": 96,
     "metadata": {},
     "output_type": "execute_result"
    }
   ],
   "source": [
    "# Faire un tri croisé \n",
    "## Tableau de contingence : matrice des valeurs observées\n",
    "\n",
    "TCO = pd.crosstab(prematures[\"CONSIS\"], prematures[\"PREMATURE\"])\n",
    "\n",
    "TCO"
   ]
  },
  {
   "cell_type": "code",
   "execution_count": 248,
   "metadata": {},
   "outputs": [
    {
     "name": "stdout",
     "output_type": "stream",
     "text": [
      "Statistique de test : 16.726344922272894\n",
      "p_valeur : 0.00023330301374230867\n",
      "degré de liberté : 2\n",
      "Dans notre cas ci-dessus la p-valeur est bien inférieure à 5% on peut donc rejeter l’hypothèse selon laquelle les deux variables testées sont indépendantes.\n"
     ]
    }
   ],
   "source": [
    "import pandas as pd\n",
    "from scipy.stats import chi2_contingency\n",
    "\n",
    "table = pd.crosstab(prematures[\"CONSIS\"],prematures[\"PREMATURE\"])\n",
    "\n",
    "resultats_test = chi2_contingency(table)\n",
    "\n",
    "print(\"Statistique de test :\", resultats_test[0])\n",
    "print(\"p_valeur :\", resultats_test[1])\n",
    "print(\"degré de liberté :\", resultats_test[2])\n",
    "\n",
    "if resultats_test[1] < 0.05:\n",
    "    print(\"Dans notre cas ci-dessus la p-valeur est bien inférieure à 5% on peut donc rejeter l’hypothèse selon laquelle les deux variables testées sont indépendantes.\")\n",
    "else:\n",
    "    print(\"Dans notre cas ci-dessus la p-valeur est supérieure à 5% on conserve donc l’hypothèse selon laquelle les deux variables testées sont indépendantes.\")"
   ]
  },
  {
   "cell_type": "markdown",
   "metadata": {},
   "source": [
    "Ici, nous pouvons observer que sur un total de 266 femmes ayant fait un `accouchement prématuré`, 160 ont une consistance du col en état `ferme` et sur un total de 124 femmes ayant fait `un accouchement normal`, 48 ont une consistance du col en état `ferme` lors de l'accouchement. Ainsi, le pourcentage de femmes ayant fait un accouchement normal et dont le col est ferme est de 38% et le pourcentage de femmes ayant fait un accouchement prématuré et dont le col est ferme est de 60%, ce qui est plus que le pourcentage de femmes ayant fait un accouchement normal et dont le col est ferme."
   ]
  },
  {
   "cell_type": "markdown",
   "metadata": {},
   "source": [
    "Nous allons maintenant visualiser ces données à l'aide du `diagramme en mosaïque`."
   ]
  },
  {
   "cell_type": "code",
   "execution_count": 97,
   "metadata": {},
   "outputs": [],
   "source": [
    "import matplotlib.pyplot as plt\n",
    "from statsmodels.graphics.mosaicplot import mosaic\n",
    "from itertools import product"
   ]
  },
  {
   "cell_type": "code",
   "execution_count": 98,
   "metadata": {},
   "outputs": [
    {
     "data": {
      "text/plain": [
       "(<Figure size 432x288 with 3 Axes>,\n",
       " OrderedDict([(('3', 'positif'),\n",
       "               (0.0, 0.0, 0.528052805280528, 0.7666751852798365)),\n",
       "              (('3', 'negatif'),\n",
       "               (0.0,\n",
       "                0.769997444416049,\n",
       "                0.528052805280528,\n",
       "                0.23000255558395089)),\n",
       "              (('1', 'positif'),\n",
       "               (0.533003300330033,\n",
       "                0.0,\n",
       "                0.13962934755013967,\n",
       "                0.5255209906372696)),\n",
       "              (('1', 'negatif'),\n",
       "               (0.533003300330033,\n",
       "                0.5288432497734822,\n",
       "                0.13962934755013967,\n",
       "                0.47115675022651765)),\n",
       "              (('2', 'positif'),\n",
       "               (0.6775831429296776,\n",
       "                0.0,\n",
       "                0.32241685707032236,\n",
       "                0.6042849295000915)),\n",
       "              (('2', 'negatif'),\n",
       "               (0.6775831429296776,\n",
       "                0.6076071886363041,\n",
       "                0.32241685707032236,\n",
       "                0.39239281136369575))]))"
      ]
     },
     "execution_count": 98,
     "metadata": {},
     "output_type": "execute_result"
    },
    {
     "data": {
      "image/png": "[encoded data removed]",
      "text/plain": [
       "<Figure size 432x288 with 3 Axes>"
      ]
     },
     "metadata": {
      "needs_background": "light"
     },
     "output_type": "display_data"
    }
   ],
   "source": [
    "props={}\n",
    "props[('1','negatif')]={'facecolor':'orange', 'edgecolor':'white'}\n",
    "props[('1','positif')]={'facecolor':'orange', 'edgecolor':'white'}\n",
    "props[('2','negatif')]={'facecolor':'xkcd:aqua','edgecolor':'white'}\n",
    "props[('2','positif')]={'facecolor':'xkcd:aqua','edgecolor':'white'}\n",
    "props[('3','negatif')]={'facecolor':'blue','edgecolor':'white'}\n",
    "props[('3','positif')]={'facecolor':'blue','edgecolor':'white'}\n",
    "\n",
    "\n",
    "labelizer=lambda k:{('1','negatif'):26,('2','negatif'):50,('3','negatif'):48,('1','positif'):29,('2','positif'):77,('3','positif'):160}[k]\n",
    "mosaic(prematures,['CONSIS','PREMATURE'],labelizer=labelizer,properties=props, title='Répartition CONSIS du col en fonction de la prématurité du bébé')"
   ]
  },
  {
   "cell_type": "markdown",
   "metadata": {},
   "source": [
    "On réalise un `test d'indépendance du chi 2` sur le tableau de contingence."
   ]
  },
  {
   "cell_type": "markdown",
   "metadata": {},
   "source": [
    "**Calcul de la p-value**"
   ]
  },
  {
   "cell_type": "markdown",
   "metadata": {},
   "source": [
    "Cette valeur nous permet de décider si les variables `CONSIS` et `PREMATURE` sont indépendantes ou non en se fixant un seuil de décision."
   ]
  },
  {
   "cell_type": "markdown",
   "metadata": {},
   "source": [
    "`Scipy.stats` calcule lui-même le nombre de degrés de liberté à partir du tableau de contingence. Cela permet ensuite de calculer la pvaleur, en \"observant\" la courbe de densité de la loi du khi2 à k degrés de liberté."
   ]
  },
  {
   "cell_type": "markdown",
   "metadata": {},
   "source": [
    "`L'hypothèse H0` est que les deux variables sont indépendantes entre elles."
   ]
  },
  {
   "cell_type": "code",
   "execution_count": 54,
   "metadata": {},
   "outputs": [
    {
     "data": {
      "text/plain": [
       "(16.726344922272894, 2, 0.00023330301374230867)"
      ]
     },
     "execution_count": 54,
     "metadata": {},
     "output_type": "execute_result"
    }
   ],
   "source": [
    "from scipy.stats import chi2_contingency\n",
    "\n",
    "chi2, pvalue, degrees, expected = chi2_contingency(TCO)\n",
    "chi2, degrees, pvalue"
   ]
  },
  {
   "cell_type": "markdown",
   "metadata": {},
   "source": [
    "**Voici les valeurs récupérées :**"
   ]
  },
  {
   "cell_type": "markdown",
   "metadata": {},
   "source": [
    "`Statistique khi2`\n",
    "\n",
    "        chi2 = 16.73\n",
    "\n",
    "`nombre de degrés de liberté`\n",
    "\n",
    "        n = 2\n",
    "\n",
    "`Pvalue : l'unique valeur nécessaire pour prendre notre décision`\n",
    "\n",
    "        p = 0.00023"
   ]
  },
  {
   "cell_type": "markdown",
   "metadata": {},
   "source": [
    "**Test au seuil de 5%**"
   ]
  },
  {
   "cell_type": "markdown",
   "metadata": {},
   "source": [
    "Rejetons l’hypothèse nulle au seuil de 5%, donc pour une pvaleur inférieure à 0.05.\n",
    "\n",
    "Dans notre cas, la pvaleur obtenue par notre étude est de `0.00023`, ce qui est en dessous du seuil fixé. On peut donc rejeter l’hypothèse nulle H0. Les variables `CONSIS` et `PREMATURE` ne sont pas indépendantes. Autrement dit, la consitance du col `est significativement liée` à la prématurité du bébé lors de l'accouchement."
   ]
  },
  {
   "cell_type": "markdown",
   "metadata": {},
   "source": [
    "**Tableau des fréquences attendues**"
   ]
  },
  {
   "cell_type": "code",
   "execution_count": 55,
   "metadata": {},
   "outputs": [
    {
     "data": {
      "text/plain": [
       "array([[ 17.48717949,  37.51282051],\n",
       "       [ 40.37948718,  86.62051282],\n",
       "       [ 66.13333333, 141.86666667]])"
      ]
     },
     "execution_count": 55,
     "metadata": {},
     "output_type": "execute_result"
    }
   ],
   "source": [
    "expected"
   ]
  },
  {
   "cell_type": "markdown",
   "metadata": {},
   "source": [
    "### 6. Etude de la variable \"Contraction\" en fonction de la prématurité du bébé"
   ]
  },
  {
   "cell_type": "code",
   "execution_count": 99,
   "metadata": {},
   "outputs": [
    {
     "data": {
      "text/html": [
       "<div>\n",
       "<style scoped>\n",
       "    .dataframe tbody tr th:only-of-type {\n",
       "        vertical-align: middle;\n",
       "    }\n",
       "\n",
       "    .dataframe tbody tr th {\n",
       "        vertical-align: top;\n",
       "    }\n",
       "\n",
       "    .dataframe thead th {\n",
       "        text-align: right;\n",
       "    }\n",
       "</style>\n",
       "<table border=\"1\" class=\"dataframe\">\n",
       "  <thead>\n",
       "    <tr style=\"text-align: right;\">\n",
       "      <th>PREMATURE</th>\n",
       "      <th>negatif</th>\n",
       "      <th>positif</th>\n",
       "    </tr>\n",
       "    <tr>\n",
       "      <th>CONTR</th>\n",
       "      <th></th>\n",
       "      <th></th>\n",
       "    </tr>\n",
       "  </thead>\n",
       "  <tbody>\n",
       "    <tr>\n",
       "      <th>1</th>\n",
       "      <td>117</td>\n",
       "      <td>238</td>\n",
       "    </tr>\n",
       "    <tr>\n",
       "      <th>2</th>\n",
       "      <td>6</td>\n",
       "      <td>27</td>\n",
       "    </tr>\n",
       "    <tr>\n",
       "      <th>3</th>\n",
       "      <td>1</td>\n",
       "      <td>1</td>\n",
       "    </tr>\n",
       "  </tbody>\n",
       "</table>\n",
       "</div>"
      ],
      "text/plain": [
       "PREMATURE  negatif  positif\n",
       "CONTR                      \n",
       "1              117      238\n",
       "2                6       27\n",
       "3                1        1"
      ]
     },
     "execution_count": 99,
     "metadata": {},
     "output_type": "execute_result"
    }
   ],
   "source": [
    "#### Tableau de contingence : matrice des valeurs observées\n",
    "TCO = pd.crosstab(prematures[\"CONTR\"], prematures[\"PREMATURE\"])\n",
    "TCO"
   ]
  },
  {
   "cell_type": "code",
   "execution_count": 100,
   "metadata": {},
   "outputs": [
    {
     "data": {
      "text/plain": [
       "array(['1', '2', '3'], dtype=object)"
      ]
     },
     "execution_count": 100,
     "metadata": {},
     "output_type": "execute_result"
    }
   ],
   "source": [
    "#### modalités possibles de la variable CONTRACTION\n",
    "prematures[\"CONTR\"].unique()"
   ]
  },
  {
   "cell_type": "code",
   "execution_count": 101,
   "metadata": {},
   "outputs": [
    {
     "data": {
      "text/plain": [
       "1    355\n",
       "2     35\n",
       "Name: CONTR, dtype: int64"
      ]
     },
     "execution_count": 101,
     "metadata": {},
     "output_type": "execute_result"
    }
   ],
   "source": [
    "#### Regroupement sur la variable \"CONTRACTION\"\n",
    "def contr_regroup(series) : \n",
    "    if series == '1':\n",
    "        return '1'\n",
    "    elif series == '2':\n",
    "        return '2'\n",
    "    elif series == '3':\n",
    "        return '2'\n",
    "    \n",
    "prematures['CONTR'] = prematures['CONTR'].apply(contr_regroup)\n",
    "\n",
    "prematures['CONTR'].value_counts()"
   ]
  },
  {
   "cell_type": "code",
   "execution_count": 102,
   "metadata": {},
   "outputs": [
    {
     "data": {
      "text/html": [
       "<div>\n",
       "<style scoped>\n",
       "    .dataframe tbody tr th:only-of-type {\n",
       "        vertical-align: middle;\n",
       "    }\n",
       "\n",
       "    .dataframe tbody tr th {\n",
       "        vertical-align: top;\n",
       "    }\n",
       "\n",
       "    .dataframe thead th {\n",
       "        text-align: right;\n",
       "    }\n",
       "</style>\n",
       "<table border=\"1\" class=\"dataframe\">\n",
       "  <thead>\n",
       "    <tr style=\"text-align: right;\">\n",
       "      <th>PREMATURE</th>\n",
       "      <th>negatif</th>\n",
       "      <th>positif</th>\n",
       "    </tr>\n",
       "    <tr>\n",
       "      <th>CONTR</th>\n",
       "      <th></th>\n",
       "      <th></th>\n",
       "    </tr>\n",
       "  </thead>\n",
       "  <tbody>\n",
       "    <tr>\n",
       "      <th>1</th>\n",
       "      <td>117</td>\n",
       "      <td>238</td>\n",
       "    </tr>\n",
       "    <tr>\n",
       "      <th>2</th>\n",
       "      <td>7</td>\n",
       "      <td>28</td>\n",
       "    </tr>\n",
       "  </tbody>\n",
       "</table>\n",
       "</div>"
      ],
      "text/plain": [
       "PREMATURE  negatif  positif\n",
       "CONTR                      \n",
       "1              117      238\n",
       "2                7       28"
      ]
     },
     "execution_count": 102,
     "metadata": {},
     "output_type": "execute_result"
    }
   ],
   "source": [
    "TCO = pd.crosstab(prematures[\"CONTR\"], prematures[\"PREMATURE\"])\n",
    "TCO"
   ]
  },
  {
   "cell_type": "markdown",
   "metadata": {},
   "source": [
    "Ici, nous pouvons observer que sur un total de 124 femmes ayant fait `un accouchement normal`, 117 ont eu des contractions et sur un total de 266 femmes ayant fait un `accouchement prématuré`, 238 ont eu des contractions lors de l'accouchement. Ainsi, le pourcentage de femmes ayant fait un accouchement normal avec `présence de contraction` est de 94% et le pourcentage de femmes ayant fait un accouchement prématuré avec `présence de contraction` est de 89%, ce qui est moins que le pourcentage de femmes ayant fait un accouchement normal avec `présence de contraction`."
   ]
  },
  {
   "cell_type": "code",
   "execution_count": 103,
   "metadata": {},
   "outputs": [
    {
     "data": {
      "text/plain": [
       "(1.90536317590237, 1, 0.16747923552336452)"
      ]
     },
     "execution_count": 103,
     "metadata": {},
     "output_type": "execute_result"
    }
   ],
   "source": [
    "#### test d'indépendance du chi 2 sur le tableau de contingence\n",
    "#### Test au seuil de 5%\n",
    "from scipy.stats import chi2_contingency\n",
    "chi2, pvalue, degrees, expected = chi2_contingency(TCO)\n",
    "chi2, degrees, pvalue"
   ]
  },
  {
   "cell_type": "markdown",
   "metadata": {},
   "source": [
    "Dans notre cas, la pvaleur obtenue par notre étude est de `0.1674`, ce qui est en dessus du seuil fixé. On peut donc conserver l’hypothèse nulle H0. Les variables `CONTR` et `PREMATURE` sont indépendantes. Autrement dit, la contraction n'est pas significativement liée à la prématurité du bébé lors de l'accouchement."
   ]
  },
  {
   "cell_type": "markdown",
   "metadata": {},
   "source": [
    "### 7. Etude de la variable \"MEMBRAN\" en fonction de la prématurité du bébé"
   ]
  },
  {
   "cell_type": "code",
   "execution_count": 114,
   "metadata": {},
   "outputs": [
    {
     "name": "stdout",
     "output_type": "stream",
     "text": [
      "Statistique de test : 36.96591329767542\n",
      "p_valeur : 9.396236042812714e-09\n",
      "degré de liberté : 2\n",
      "Dans notre cas ci-dessus la p-valeur est bien inférieure à 5% on peut donc rejeter l’hypothèse selon laquelle les deux variables testées sont indépendantes.\n"
     ]
    }
   ],
   "source": [
    "import pandas as pd\n",
    "from scipy.stats import chi2_contingency\n",
    "\n",
    "table = pd.crosstab(prematures[\"MEMBRAN\"],prematures[\"PREMATURE\"])\n",
    "\n",
    "resultats_test = chi2_contingency(table)\n",
    "\n",
    "print(\"Statistique de test :\", resultats_test[0])\n",
    "print(\"p_valeur :\", resultats_test[1])\n",
    "print(\"degré de liberté :\", resultats_test[2])\n",
    "\n",
    "if resultats_test[1] < 0.05:\n",
    "    print(\"Dans notre cas ci-dessus la p-valeur est bien inférieure à 5% on peut donc rejeter l’hypothèse selon laquelle les deux variables testées sont indépendantes.\")\n",
    "else:\n",
    "    print(\"Dans notre cas ci-dessus la p-valeur est supérieure à 5% on conserve donc l’hypothèse selon laquelle les deux variables testées sont indépendantes.\")"
   ]
  },
  {
   "cell_type": "markdown",
   "metadata": {},
   "source": [
    "### 8. Etude de la variable \"GRAVID\" en fonction de la prématurité du bébé"
   ]
  },
  {
   "cell_type": "code",
   "execution_count": 116,
   "metadata": {},
   "outputs": [
    {
     "name": "stdout",
     "output_type": "stream",
     "text": [
      "Statistique de test : 8.352867311877253\n",
      "p_valeur : 0.49901367455992285\n",
      "degré de liberté : 9\n",
      "Dans notre cas ci-dessus la p-valeur est supérieure à 5% on conserve donc l’hypothèse selon laquelle les deux variables testées sont indépendantes.\n"
     ]
    }
   ],
   "source": [
    "import pandas as pd\n",
    "from scipy.stats import chi2_contingency\n",
    "\n",
    "table = pd.crosstab(prematures[\"GRAVID\"],prematures[\"PREMATURE\"])\n",
    "\n",
    "resultats_test = chi2_contingency(table)\n",
    "\n",
    "print(\"Statistique de test :\", resultats_test[0])\n",
    "print(\"p_valeur :\", resultats_test[1])\n",
    "print(\"degré de liberté :\", resultats_test[2])\n",
    "\n",
    "if resultats_test[1] < 0.05:\n",
    "    print(\"Dans notre cas ci-dessus la p-valeur est bien inférieure à 5% on peut donc rejeter l’hypothèse selon laquelle les deux variables testées sont indépendantes.\")\n",
    "else:\n",
    "    print(\"Dans notre cas ci-dessus la p-valeur est supérieure à 5% on conserve donc l’hypothèse selon laquelle les deux variables testées sont indépendantes.\")"
   ]
  },
  {
   "cell_type": "markdown",
   "metadata": {},
   "source": [
    "### 9. Etude de la variable \"PARIT\" en fonction de la prématurité du bébé"
   ]
  },
  {
   "cell_type": "code",
   "execution_count": 117,
   "metadata": {},
   "outputs": [
    {
     "name": "stdout",
     "output_type": "stream",
     "text": [
      "Statistique de test : 17.68477127641448\n",
      "p_valeur : 0.013476161336760646\n",
      "degré de liberté : 7\n",
      "Dans notre cas ci-dessus la p-valeur est bien inférieure à 5% on peut donc rejeter l’hypothèse selon laquelle les deux variables testées sont indépendantes.\n"
     ]
    }
   ],
   "source": [
    "import pandas as pd\n",
    "from scipy.stats import chi2_contingency\n",
    "\n",
    "table = pd.crosstab(prematures[\"PARIT\"],prematures[\"PREMATURE\"])\n",
    "\n",
    "resultats_test = chi2_contingency(table)\n",
    "\n",
    "print(\"Statistique de test :\", resultats_test[0])\n",
    "print(\"p_valeur :\", resultats_test[1])\n",
    "print(\"degré de liberté :\", resultats_test[2])\n",
    "\n",
    "if resultats_test[1] < 0.05:\n",
    "    print(\"Dans notre cas ci-dessus la p-valeur est bien inférieure à 5% on peut donc rejeter l’hypothèse selon laquelle les deux variables testées sont indépendantes.\")\n",
    "else:\n",
    "    print(\"Dans notre cas ci-dessus la p-valeur est supérieure à 5% on conserve donc l’hypothèse selon laquelle les deux variables testées sont indépendantes.\")"
   ]
  },
  {
   "cell_type": "markdown",
   "metadata": {},
   "source": [
    "### 10. Etude de la variable \"DIAB\" en fonction de la prématurité du bébé"
   ]
  },
  {
   "cell_type": "code",
   "execution_count": 118,
   "metadata": {},
   "outputs": [
    {
     "name": "stdout",
     "output_type": "stream",
     "text": [
      "Statistique de test : 0.9691093120115447\n",
      "p_valeur : 0.6159714548781959\n",
      "degré de liberté : 2\n",
      "Dans notre cas ci-dessus la p-valeur est supérieure à 5% on conserve donc l’hypothèse selon laquelle les deux variables testées sont indépendantes.\n"
     ]
    }
   ],
   "source": [
    "import pandas as pd\n",
    "from scipy.stats import chi2_contingency\n",
    "\n",
    "table = pd.crosstab(prematures[\"DIAB\"],prematures[\"PREMATURE\"])\n",
    "\n",
    "resultats_test = chi2_contingency(table)\n",
    "\n",
    "print(\"Statistique de test :\", resultats_test[0])\n",
    "print(\"p_valeur :\", resultats_test[1])\n",
    "print(\"degré de liberté :\", resultats_test[2])\n",
    "\n",
    "if resultats_test[1] < 0.05:\n",
    "    print(\"Dans notre cas ci-dessus la p-valeur est bien inférieure à 5% on peut donc rejeter l’hypothèse selon laquelle les deux variables testées sont indépendantes.\")\n",
    "else:\n",
    "    print(\"Dans notre cas ci-dessus la p-valeur est supérieure à 5% on conserve donc l’hypothèse selon laquelle les deux variables testées sont indépendantes.\")"
   ]
  },
  {
   "cell_type": "markdown",
   "metadata": {},
   "source": [
    "### 11. Etude de la variable \"TRANSF\" en fonction de la prématurité du bébé"
   ]
  },
  {
   "cell_type": "code",
   "execution_count": 119,
   "metadata": {},
   "outputs": [
    {
     "name": "stdout",
     "output_type": "stream",
     "text": [
      "Statistique de test : 21.43355682541447\n",
      "p_valeur : 3.663038557239542e-06\n",
      "degré de liberté : 1\n",
      "Dans notre cas ci-dessus la p-valeur est bien inférieure à 5% on peut donc rejeter l’hypothèse selon laquelle les deux variables testées sont indépendantes.\n"
     ]
    }
   ],
   "source": [
    "import pandas as pd\n",
    "from scipy.stats import chi2_contingency\n",
    "\n",
    "table = pd.crosstab(prematures[\"TRANSF\"],prematures[\"PREMATURE\"])\n",
    "\n",
    "resultats_test = chi2_contingency(table)\n",
    "\n",
    "print(\"Statistique de test :\", resultats_test[0])\n",
    "print(\"p_valeur :\", resultats_test[1])\n",
    "print(\"degré de liberté :\", resultats_test[2])\n",
    "\n",
    "if resultats_test[1] < 0.05:\n",
    "    print(\"Dans notre cas ci-dessus la p-valeur est bien inférieure à 5% on peut donc rejeter l’hypothèse selon laquelle les deux variables testées sont indépendantes.\")\n",
    "else:\n",
    "    print(\"Dans notre cas ci-dessus la p-valeur est supérieure à 5% on conserve donc l’hypothèse selon laquelle les deux variables testées sont indépendantes.\")"
   ]
  },
  {
   "cell_type": "markdown",
   "metadata": {},
   "source": [
    "### 12. Etude de la variable \"GEMEL\" en fonction de la prématurité du bébé"
   ]
  },
  {
   "cell_type": "code",
   "execution_count": 120,
   "metadata": {},
   "outputs": [
    {
     "name": "stdout",
     "output_type": "stream",
     "text": [
      "Statistique de test : 8.19922790848088\n",
      "p_valeur : 0.004190822003158372\n",
      "degré de liberté : 1\n",
      "Dans notre cas ci-dessus la p-valeur est bien inférieure à 5% on peut donc rejeter l’hypothèse selon laquelle les deux variables testées sont indépendantes.\n"
     ]
    }
   ],
   "source": [
    "import pandas as pd\n",
    "from scipy.stats import chi2_contingency\n",
    "\n",
    "table = pd.crosstab(prematures[\"GEMEL\"],prematures[\"PREMATURE\"])\n",
    "\n",
    "resultats_test = chi2_contingency(table)\n",
    "\n",
    "print(\"Statistique de test :\", resultats_test[0])\n",
    "print(\"p_valeur :\", resultats_test[1])\n",
    "print(\"degré de liberté :\", resultats_test[2])\n",
    "\n",
    "if resultats_test[1] < 0.05:\n",
    "    print(\"Dans notre cas ci-dessus la p-valeur est bien inférieure à 5% on peut donc rejeter l’hypothèse selon laquelle les deux variables testées sont indépendantes.\")\n",
    "else:\n",
    "    print(\"Dans notre cas ci-dessus la p-valeur est supérieure à 5% on conserve donc l’hypothèse selon laquelle les deux variables testées sont indépendantes.\")"
   ]
  },
  {
   "cell_type": "markdown",
   "metadata": {},
   "source": [
    "# II - Régression Logistique"
   ]
  },
  {
   "cell_type": "markdown",
   "metadata": {},
   "source": [
    "Régression logistique = technique statistique permettant de modéliser l'effet de variables aléatoires (X1, X2, …, Xk) sur une variable aléatoire binaire Y.\n",
    "\n",
    "\n",
    "La variable à expliquer Y est obligatoirement une variable qualitative à 2 classes (évènement/pas d'évènement, vrai/faux, échec/succès, décès/survie, …).\n",
    "\n",
    "Les variables explicatives Xi peuvent être de n'importe quel type (quantitatives ou qualitatives)\n",
    "Le modèle logistique permet :\n",
    " - de vérifier si une variable explicative Xi influe significativement sur Y\n",
    " - de quantifier la relation entre les variables explicatives et Y \n",
    " - de prédire la valeur que va prendre Y en fonction des valeurs prises par les variables explicatives.\n"
   ]
  },
  {
   "cell_type": "markdown",
   "metadata": {},
   "source": [
    "Le modèle logistique trouve de larges applications dans des domaines variés :\n",
    " - en médecine, étude des facteurs de risque de décès, de maladie, de guérison \n",
    " - dans le domaine du marketing, étude des facteurs conduisant à un achat \n",
    " - dans le domaine bancaire et des assurances, détection de groupes à risque.\n"
   ]
  },
  {
   "cell_type": "markdown",
   "metadata": {},
   "source": [
    "### 1. Module Scikit-learn"
   ]
  },
  {
   "cell_type": "markdown",
   "metadata": {},
   "source": [
    "La bibliothèque d’apprentissage automatique Scikit-learn fournit pour la régression logistique le module `sklearn.linear_model.LogisticRegression`."
   ]
  },
  {
   "cell_type": "markdown",
   "metadata": {},
   "source": [
    "- `LogisticRegression` peut prendre plusieurs paramètres dont :"
   ]
  },
  {
   "cell_type": "markdown",
   "metadata": {},
   "source": [
    "- `random_state` : représente la graine du nombre pseudo-aléatoire généré. Ce dernier est utilisé lors de la réorganisation de données. Il peut prendre trois options, notamment :"
   ]
  },
  {
   "cell_type": "markdown",
   "metadata": {},
   "source": [
    "- `int` : `random_state` dans ce cas est la graine utilisée par le générateur de nombres aléatoires.\n",
    "- `RandomState instance` : `random_state` dans ce cas est le générateur de nombres aléatoires.\n",
    "- `None` : le générateur de nombres aléatoires est l’instance `RandomState` qui est utilisée par `np.random`.\n",
    "\n",
    "Par défaut ce paramètre prend None."
   ]
  },
  {
   "cell_type": "markdown",
   "metadata": {},
   "source": [
    "- `solver` : ce paramètre représente l’algorithme à utiliser pour le problème d’optimisation. Il peut prendre l’une des options suivantes :"
   ]
  },
  {
   "cell_type": "markdown",
   "metadata": {},
   "source": [
    "  - `linlinear` : le meilleur choix pour les petits ensembles de données. Il gère la pénalité L1.\n",
    "  - `newton-cg` : gère que la pénalité L2.\n",
    "  - `lbfgs` : gère la perte multinomiale pour les problèmes multi classes. Il ne gère également que la pénalité L2.\n",
    "  - `saga` : représente un bon choix pour les grands ensembles de données. Pour les problèmes multi classes, il gère les pertes `multinomiales`. Il prend en charge la pénalité L1 et la pénalité « `elasticnet`».\n",
    "  - `sag` : cette option est aussi idéale pour les grands ensembles de données et gère la perte multinomiale pour les problèmes multi classes.\n",
    "Par défaut ce paramètre prend `linlinear`."
   ]
  },
  {
   "cell_type": "markdown",
   "metadata": {},
   "source": [
    "- `multi_class` : ce paramètre présente les options suivantes :"
   ]
  },
  {
   "cell_type": "markdown",
   "metadata": {},
   "source": [
    "   - `ovr` : si cette option est choisie, donc un problème binaire est adapté à chaque étiquette.\n",
    "   - `multin` : si cette option est choisie, alors la perte minimisée est l’ajustement de la perte multinomiale sur l’ensemble de la distribution de probabilité. Cette option ne marche pas avec le solveur « `lbfgs`».\n",
    "   \n",
    "Par défaut ce paramètre prend `ovr`."
   ]
  },
  {
   "cell_type": "markdown",
   "metadata": {},
   "source": [
    "### 2. Attributs de la régression logistique"
   ]
  },
  {
   "cell_type": "markdown",
   "metadata": {},
   "source": [
    "Les attributs du `LogisticRegression` sont les suivants :"
   ]
  },
  {
   "cell_type": "markdown",
   "metadata": {},
   "source": [
    "- `coef_` : renvoi le coefficient des caractéristiques de la fonction de décision.\n",
    "\n",
    "- `intercept_` : représente la constante ajoutée à la fonction de décision.\n",
    "\n",
    "- `n_iter_` : renvoi le nombre réel d’itérations pour chaque classe."
   ]
  },
  {
   "cell_type": "markdown",
   "metadata": {},
   "source": [
    "On définit deux variables X et Y représentant respectivement des valeurs caractéristiques (features) et la valeur cible (target). Ensuite, on utilise la fonction **train_test_split** pour fractionner l’ensemble de données en données d’entrainement et de test suivant le pourcentage par défaut 75/25%."
   ]
  },
  {
   "cell_type": "markdown",
   "metadata": {},
   "source": [
    "On crée par la suite une instance de l’objet **LogisticRegression**. On entraine cette instance en utilisant la méthode **fit()** qu’on lui passe en paramètre **x_train** et **y_train**. Pour prédire si une femme a fait un accouchement prématuré ou non on donne au modèle les valeurs de test et on lui applique la méthode **predict()**."
   ]
  },
  {
   "cell_type": "markdown",
   "metadata": {},
   "source": [
    "Puis, en faisant appel à la méthode **score()** on calcule la précision du modèle.\n",
    "\n",
    "**Méthode 1** "
   ]
  },
  {
   "cell_type": "code",
   "execution_count": 124,
   "metadata": {},
   "outputs": [
    {
     "name": "stdout",
     "output_type": "stream",
     "text": [
      "prédiction du modèle: ['positif' 'positif' 'positif' 'positif' 'positif' 'positif' 'positif'\n",
      " 'positif' 'positif' 'negatif' 'positif' 'positif' 'positif' 'positif'\n",
      " 'positif' 'positif' 'positif' 'negatif' 'positif' 'negatif' 'negatif'\n",
      " 'negatif' 'positif' 'negatif' 'negatif' 'positif' 'negatif' 'positif'\n",
      " 'positif' 'positif' 'negatif' 'negatif' 'negatif' 'positif' 'positif'\n",
      " 'positif' 'positif' 'positif' 'negatif' 'negatif' 'positif' 'positif'\n",
      " 'negatif' 'positif' 'negatif' 'negatif' 'positif' 'positif' 'positif'\n",
      " 'positif' 'positif' 'positif' 'positif' 'positif' 'positif' 'positif'\n",
      " 'positif' 'positif' 'positif' 'negatif' 'positif' 'positif' 'negatif'\n",
      " 'positif' 'negatif' 'positif' 'negatif' 'positif' 'positif' 'positif'\n",
      " 'positif' 'negatif' 'negatif' 'negatif' 'positif' 'positif' 'positif'\n",
      " 'positif' 'positif' 'positif' 'positif' 'positif' 'positif' 'positif'\n",
      " 'positif' 'positif' 'positif' 'positif' 'negatif' 'positif' 'positif'\n",
      " 'positif' 'positif' 'positif' 'positif' 'positif' 'negatif' 'positif']\n",
      "la précision du modèle 100.0\n"
     ]
    },
    {
     "name": "stderr",
     "output_type": "stream",
     "text": [
      "C:\\Users\\niang\\anaconda3\\lib\\site-packages\\sklearn\\linear_model\\_logistic.py:762: ConvergenceWarning: lbfgs failed to converge (status=1):\n",
      "STOP: TOTAL NO. of ITERATIONS REACHED LIMIT.\n",
      "\n",
      "Increase the number of iterations (max_iter) or scale the data as shown in:\n",
      "    https://scikit-learn.org/stable/modules/preprocessing.html\n",
      "Please also refer to the documentation for alternative solver options:\n",
      "    https://scikit-learn.org/stable/modules/linear_model.html#logistic-regression\n",
      "  n_iter_i = _check_optimize_result(\n"
     ]
    }
   ],
   "source": [
    "caracteristique = ['GEST', 'DILATE', 'EFFACE', 'CONSIS', 'MEMBRAN', 'AGE','PARIT', 'TRANSF', 'GEMEL']\n",
    "x = prematures[caracteristique]\n",
    "y = prematures.PREMATURE\n",
    "#fractionner dataset (train-test)\n",
    "x_train, x_test, y_train, y_test = train_test_split(x, y,\n",
    "test_size = 0.25, random_state = 0)\n",
    "#instanciation du modèle\n",
    "modele_regLog = linear_model.LogisticRegression()\n",
    "#training\n",
    "modele_regLog.fit(x_train, y_train)\n",
    "#prediction\n",
    "prediction = modele_regLog.predict(x_test)\n",
    "print('prédiction du modèle:', prediction)\n",
    "#calcule de précision : Mesure des performances du modèle\n",
    "precision = modele_regLog.score(x_test, prediction)\n",
    "print('la précision du modèle', precision * 100)"
   ]
  },
  {
   "cell_type": "code",
   "execution_count": 125,
   "metadata": {},
   "outputs": [
    {
     "name": "stdout",
     "output_type": "stream",
     "text": [
      "[[ 0.01466666  0.55562393  0.01037879 -0.08224594 -0.97542347 -0.00964433\n",
      "  -0.38253582 -0.50392651  1.52252547]] [1.1415202]\n"
     ]
    }
   ],
   "source": [
    "print(modele_regLog.coef_, modele_regLog.intercept_)"
   ]
  },
  {
   "cell_type": "markdown",
   "metadata": {},
   "source": [
    "**Méthode 2** "
   ]
  },
  {
   "cell_type": "code",
   "execution_count": 126,
   "metadata": {},
   "outputs": [],
   "source": [
    "#### On crée une nouvelle colonne etiquette_PREMATURE qui reçoit 0 si PREMATURE == \"négatif\" ou 1 sinon\n",
    "prematures['etiquette_PREMATURE'] = np.where(prematures['PREMATURE']==\"negatif\", '0', '1')\n",
    "\n",
    "prematures.head()"
   ]
  },
  {
   "cell_type": "markdown",
   "metadata": {},
   "source": [
    "On crée ci-contre une correspondance entre la valeur de l’étiquette de PREMATURE et son nom dans le but de faciliter l’interprétation des résultats. Puis, on définit deux variables x et y représentant respectivement des valeurs caractéristiques et la valeur cible."
   ]
  },
  {
   "cell_type": "markdown",
   "metadata": {},
   "source": [
    "Ensuite, on utilise la fonction **train_test_split** pour fractionner l’ensemble de données en données d’entrainement et de test suivant le pourcentage par défaut 75/25%."
   ]
  },
  {
   "cell_type": "markdown",
   "metadata": {},
   "source": [
    "On crée par la suite une instance de l’objet **LogisticRegression**, qu’on lui passe en paramètres **random_state**, **solver** et **multi_class**."
   ]
  },
  {
   "cell_type": "markdown",
   "metadata": {},
   "source": [
    "Finalement, on entraine cette instance en utilisant la méthode **fit()** qu’on lui passe en paramètre **x_train** et **y_train**. Puis, en faisant appel à la méthode **score()** on calcule la précision du modèle."
   ]
  },
  {
   "cell_type": "code",
   "execution_count": 128,
   "metadata": {},
   "outputs": [
    {
     "name": "stdout",
     "output_type": "stream",
     "text": [
      "{'1': 'positif', '0': 'negatif'}\n",
      "75.51020408163265\n"
     ]
    }
   ],
   "source": [
    "nom_PREMATURE_cible = dict(zip(prematures.etiquette_PREMATURE.unique(), prematures.PREMATURE.unique()))\n",
    "print(nom_PREMATURE_cible)\n",
    "#valeurs caractéristiques et valeur cible\n",
    "x = prematures[['GEST', 'DILATE', 'EFFACE', 'CONSIS', 'MEMBRAN', 'AGE', 'PARIT', 'TRANSF', 'GEMEL']]\n",
    "y = prematures['etiquette_PREMATURE']\n",
    "#fractionner dataset\n",
    "x_train, x_test, y_train, y_test = train_test_split(x, y, random_state = 0)\n",
    "#instanciation du modèle\n",
    "modele_regLog = linear_model.LogisticRegression(random_state = 0,\n",
    "solver = 'liblinear', multi_class = 'auto')\n",
    "#training\n",
    "modele_regLog.fit(x_train,y_train)\n",
    "#précision du modèle\n",
    "precision = modele_regLog.score(x_test,y_test)\n",
    "print(precision*100)"
   ]
  },
  {
   "cell_type": "markdown",
   "metadata": {},
   "source": [
    "On donne au modèle de régression logistique : \n",
    "\n",
    "    - l'âge gestationnel en semaines à l'entrée dans l'étude,\n",
    "    - la dilatation du col en cm,\n",
    "    - l’effacement du col (en %),\n",
    "    - la consistance du col,\n",
    "    - les membranes rompues ou non ou incertain,\n",
    "    - l’âge de la patiente,\n",
    "    - la parité\n",
    "    - le transfert ou non vers un hôpital en soins spécialisés\n",
    "    - le type de grossesse : simple ou multiple\n",
    "\n",
    "durant l'accouchement de la patiente et on lui demande de classifier cet accouchement en utilisant la méthode de prédiction predict()."
   ]
  },
  {
   "cell_type": "code",
   "execution_count": 129,
   "metadata": {},
   "outputs": [
    {
     "data": {
      "text/plain": [
       "'positif'"
      ]
     },
     "execution_count": 129,
     "metadata": {},
     "output_type": "execute_result"
    }
   ],
   "source": [
    "#prédiction\n",
    "prediction_accouchement = modele_regLog.predict([[31, 3, 100, 3, 2, 26, 0, 2, 1]])\n",
    "nom_PREMATURE_cible[prediction_accouchement[0]]"
   ]
  },
  {
   "cell_type": "code",
   "execution_count": 130,
   "metadata": {},
   "outputs": [
    {
     "data": {
      "text/plain": [
       "'negatif'"
      ]
     },
     "execution_count": 130,
     "metadata": {},
     "output_type": "execute_result"
    }
   ],
   "source": [
    "#prédiction\n",
    "prediction_accouchement = modele_regLog.predict([[33,0,25,2,3,24,1,2,1]])\n",
    "nom_PREMATURE_cible[prediction_accouchement[0]]"
   ]
  },
  {
   "cell_type": "markdown",
   "metadata": {},
   "source": [
    "**INTERPRÉTATION DES COEFFICIENTS DE RÉGRESSION LOGISTIQUE**"
   ]
  },
  {
   "cell_type": "code",
   "execution_count": 131,
   "metadata": {},
   "outputs": [],
   "source": [
    "df = prematures\n",
    "\n",
    "def recodage(series) : \n",
    "    if series == 'positif':\n",
    "        return 1.0\n",
    "    else : \n",
    "        return 0.0\n",
    "    \n",
    "df['PREMATURE'] = df['PREMATURE'].apply(recodage)\n",
    "\n",
    "df['PREMATURE'].value_counts()\n",
    "\n",
    "#### Changer les types des variables en FLOAT \n",
    "df = df.astype(\"float\")"
   ]
  },
  {
   "cell_type": "code",
   "execution_count": 134,
   "metadata": {},
   "outputs": [
    {
     "name": "stdout",
     "output_type": "stream",
     "text": [
      "Optimization terminated successfully.\n",
      "         Current function value: 0.496010\n",
      "         Iterations 7\n"
     ]
    },
    {
     "data": {
      "text/html": [
       "<table class=\"simpletable\">\n",
       "<caption>Logit Regression Results</caption>\n",
       "<tr>\n",
       "  <th>Dep. Variable:</th>       <td>PREMATURE</td>    <th>  No. Observations:  </th>  <td>   390</td>  \n",
       "</tr>\n",
       "<tr>\n",
       "  <th>Model:</th>                 <td>Logit</td>      <th>  Df Residuals:      </th>  <td>   381</td>  \n",
       "</tr>\n",
       "<tr>\n",
       "  <th>Method:</th>                 <td>MLE</td>       <th>  Df Model:          </th>  <td>     8</td>  \n",
       "</tr>\n",
       "<tr>\n",
       "  <th>Date:</th>            <td>Fri, 21 May 2021</td> <th>  Pseudo R-squ.:     </th>  <td>0.2068</td>  \n",
       "</tr>\n",
       "<tr>\n",
       "  <th>Time:</th>                <td>16:23:16</td>     <th>  Log-Likelihood:    </th> <td> -193.44</td> \n",
       "</tr>\n",
       "<tr>\n",
       "  <th>converged:</th>             <td>True</td>       <th>  LL-Null:           </th> <td> -243.87</td> \n",
       "</tr>\n",
       "<tr>\n",
       "  <th>Covariance Type:</th>     <td>nonrobust</td>    <th>  LLR p-value:       </th> <td>2.852e-18</td>\n",
       "</tr>\n",
       "</table>\n",
       "<table class=\"simpletable\">\n",
       "<tr>\n",
       "     <td></td>        <th>coef</th>     <th>std err</th>      <th>z</th>      <th>P>|z|</th>  <th>[0.025</th>    <th>0.975]</th>  \n",
       "</tr>\n",
       "<tr>\n",
       "  <th>GEST</th>    <td>    0.0027</td> <td>    0.029</td> <td>    0.093</td> <td> 0.926</td> <td>   -0.055</td> <td>    0.060</td>\n",
       "</tr>\n",
       "<tr>\n",
       "  <th>DILATE</th>  <td>    0.4143</td> <td>    0.151</td> <td>    2.740</td> <td> 0.006</td> <td>    0.118</td> <td>    0.711</td>\n",
       "</tr>\n",
       "<tr>\n",
       "  <th>EFFACE</th>  <td>    0.0153</td> <td>    0.005</td> <td>    3.309</td> <td> 0.001</td> <td>    0.006</td> <td>    0.024</td>\n",
       "</tr>\n",
       "<tr>\n",
       "  <th>CONSIS</th>  <td>    0.0558</td> <td>    0.182</td> <td>    0.307</td> <td> 0.759</td> <td>   -0.300</td> <td>    0.412</td>\n",
       "</tr>\n",
       "<tr>\n",
       "  <th>MEMBRAN</th> <td>   -1.0055</td> <td>    0.287</td> <td>   -3.502</td> <td> 0.000</td> <td>   -1.568</td> <td>   -0.443</td>\n",
       "</tr>\n",
       "<tr>\n",
       "  <th>AGE</th>     <td>    0.0126</td> <td>    0.024</td> <td>    0.518</td> <td> 0.605</td> <td>   -0.035</td> <td>    0.060</td>\n",
       "</tr>\n",
       "<tr>\n",
       "  <th>PARIT</th>   <td>   -0.3752</td> <td>    0.136</td> <td>   -2.769</td> <td> 0.006</td> <td>   -0.641</td> <td>   -0.110</td>\n",
       "</tr>\n",
       "<tr>\n",
       "  <th>TRANSF</th>  <td>   -0.5906</td> <td>    0.263</td> <td>   -2.246</td> <td> 0.025</td> <td>   -1.106</td> <td>   -0.075</td>\n",
       "</tr>\n",
       "<tr>\n",
       "  <th>GEMEL</th>   <td>    2.1779</td> <td>    0.708</td> <td>    3.077</td> <td> 0.002</td> <td>    0.790</td> <td>    3.565</td>\n",
       "</tr>\n",
       "</table>"
      ],
      "text/plain": [
       "<class 'statsmodels.iolib.summary.Summary'>\n",
       "\"\"\"\n",
       "                           Logit Regression Results                           \n",
       "==============================================================================\n",
       "Dep. Variable:              PREMATURE   No. Observations:                  390\n",
       "Model:                          Logit   Df Residuals:                      381\n",
       "Method:                           MLE   Df Model:                            8\n",
       "Date:                Fri, 21 May 2021   Pseudo R-squ.:                  0.2068\n",
       "Time:                        16:23:16   Log-Likelihood:                -193.44\n",
       "converged:                       True   LL-Null:                       -243.87\n",
       "Covariance Type:            nonrobust   LLR p-value:                 2.852e-18\n",
       "==============================================================================\n",
       "                 coef    std err          z      P>|z|      [0.025      0.975]\n",
       "------------------------------------------------------------------------------\n",
       "GEST           0.0027      0.029      0.093      0.926      -0.055       0.060\n",
       "DILATE         0.4143      0.151      2.740      0.006       0.118       0.711\n",
       "EFFACE         0.0153      0.005      3.309      0.001       0.006       0.024\n",
       "CONSIS         0.0558      0.182      0.307      0.759      -0.300       0.412\n",
       "MEMBRAN       -1.0055      0.287     -3.502      0.000      -1.568      -0.443\n",
       "AGE            0.0126      0.024      0.518      0.605      -0.035       0.060\n",
       "PARIT         -0.3752      0.136     -2.769      0.006      -0.641      -0.110\n",
       "TRANSF        -0.5906      0.263     -2.246      0.025      -1.106      -0.075\n",
       "GEMEL          2.1779      0.708      3.077      0.002       0.790       3.565\n",
       "==============================================================================\n",
       "\"\"\""
      ]
     },
     "execution_count": 134,
     "metadata": {},
     "output_type": "execute_result"
    }
   ],
   "source": [
    "#### Ajustons le modèle et visualisez la sortie récapitulative.\n",
    "\n",
    "import numpy as np\n",
    "import statsmodels.api as sm\n",
    "\n",
    "model = sm.Logit(df.PREMATURE, df[['GEST', 'DILATE', 'EFFACE', 'CONSIS', 'MEMBRAN', 'AGE', 'PARIT', 'TRANSF', 'GEMEL']])\n",
    "result = model.fit()\n",
    "result.summary()"
   ]
  },
  {
   "cell_type": "code",
   "execution_count": 135,
   "metadata": {},
   "outputs": [
    {
     "data": {
      "text/plain": [
       "GEST       1.002726\n",
       "DILATE     1.513328\n",
       "EFFACE     1.015411\n",
       "CONSIS     1.057375\n",
       "MEMBRAN    0.365855\n",
       "AGE        1.012637\n",
       "PARIT      0.687185\n",
       "TRANSF     0.553997\n",
       "GEMEL      8.828048\n",
       "dtype: float64"
      ]
     },
     "execution_count": 135,
     "metadata": {},
     "output_type": "execute_result"
    }
   ],
   "source": [
    "np.exp(result.params)"
   ]
  },
  {
   "cell_type": "markdown",
   "metadata": {},
   "source": [
    "# III - Arbre de décision simple\n",
    "\n",
    "## A - Import des librairies\n",
    "Importer les librairies puis le jeu de données "
   ]
  },
  {
   "cell_type": "code",
   "execution_count": 171,
   "metadata": {},
   "outputs": [],
   "source": [
    "# Importer les modules importants de scikit-learn (noté sklearn)\n",
    "##     importer la fonction train_test_split du module sklearn.model_selection \n",
    "from sklearn.model_selection import train_test_split\n",
    "\n",
    "##     importer la classe DecisionTreeClassifier et les fonction plot_tree, export_text depuis le module sklearn.tree\n",
    "from sklearn.tree import DecisionTreeClassifier\n",
    "from sklearn.tree import plot_tree\n",
    "from sklearn.tree import export_text\n",
    "\n",
    "##     importer les fonctions confusion_matrix et  accuracy_score depuis le module sklearn.metrics\n",
    "from sklearn.metrics import confusion_matrix\n",
    "from sklearn.metrics import accuracy_score"
   ]
  },
  {
   "cell_type": "code",
   "execution_count": 172,
   "metadata": {},
   "outputs": [
    {
     "data": {
      "text/html": [
       "<div>\n",
       "<style scoped>\n",
       "    .dataframe tbody tr th:only-of-type {\n",
       "        vertical-align: middle;\n",
       "    }\n",
       "\n",
       "    .dataframe tbody tr th {\n",
       "        vertical-align: top;\n",
       "    }\n",
       "\n",
       "    .dataframe thead th {\n",
       "        text-align: right;\n",
       "    }\n",
       "</style>\n",
       "<table border=\"1\" class=\"dataframe\">\n",
       "  <thead>\n",
       "    <tr style=\"text-align: right;\">\n",
       "      <th></th>\n",
       "      <th>GEST</th>\n",
       "      <th>DILATE</th>\n",
       "      <th>EFFACE</th>\n",
       "      <th>CONSIS</th>\n",
       "      <th>CONTR</th>\n",
       "      <th>MEMBRAN</th>\n",
       "      <th>AGE</th>\n",
       "      <th>GRAVID</th>\n",
       "      <th>PARIT</th>\n",
       "      <th>DIAB</th>\n",
       "      <th>TRANSF</th>\n",
       "      <th>GEMEL</th>\n",
       "      <th>PREMATURE</th>\n",
       "    </tr>\n",
       "  </thead>\n",
       "  <tbody>\n",
       "    <tr>\n",
       "      <th>0</th>\n",
       "      <td>31</td>\n",
       "      <td>3</td>\n",
       "      <td>100</td>\n",
       "      <td>3</td>\n",
       "      <td>1</td>\n",
       "      <td>2</td>\n",
       "      <td>26</td>\n",
       "      <td>1</td>\n",
       "      <td>0</td>\n",
       "      <td>2</td>\n",
       "      <td>2</td>\n",
       "      <td>1</td>\n",
       "      <td>positif</td>\n",
       "    </tr>\n",
       "    <tr>\n",
       "      <th>1</th>\n",
       "      <td>28</td>\n",
       "      <td>8</td>\n",
       "      <td>0</td>\n",
       "      <td>3</td>\n",
       "      <td>1</td>\n",
       "      <td>2</td>\n",
       "      <td>25</td>\n",
       "      <td>1</td>\n",
       "      <td>0</td>\n",
       "      <td>2</td>\n",
       "      <td>1</td>\n",
       "      <td>2</td>\n",
       "      <td>positif</td>\n",
       "    </tr>\n",
       "    <tr>\n",
       "      <th>2</th>\n",
       "      <td>31</td>\n",
       "      <td>3</td>\n",
       "      <td>100</td>\n",
       "      <td>3</td>\n",
       "      <td>2</td>\n",
       "      <td>2</td>\n",
       "      <td>28</td>\n",
       "      <td>2</td>\n",
       "      <td>0</td>\n",
       "      <td>2</td>\n",
       "      <td>1</td>\n",
       "      <td>1</td>\n",
       "      <td>positif</td>\n",
       "    </tr>\n",
       "    <tr>\n",
       "      <th>3</th>\n",
       "      <td>27</td>\n",
       "      <td>2</td>\n",
       "      <td>75</td>\n",
       "      <td>3</td>\n",
       "      <td>2</td>\n",
       "      <td>2</td>\n",
       "      <td>27</td>\n",
       "      <td>2</td>\n",
       "      <td>1</td>\n",
       "      <td>2</td>\n",
       "      <td>1</td>\n",
       "      <td>2</td>\n",
       "      <td>positif</td>\n",
       "    </tr>\n",
       "    <tr>\n",
       "      <th>4</th>\n",
       "      <td>28</td>\n",
       "      <td>6</td>\n",
       "      <td>75</td>\n",
       "      <td>3</td>\n",
       "      <td>2</td>\n",
       "      <td>2</td>\n",
       "      <td>17</td>\n",
       "      <td>1</td>\n",
       "      <td>0</td>\n",
       "      <td>2</td>\n",
       "      <td>1</td>\n",
       "      <td>1</td>\n",
       "      <td>positif</td>\n",
       "    </tr>\n",
       "  </tbody>\n",
       "</table>\n",
       "</div>"
      ],
      "text/plain": [
       "   GEST  DILATE  EFFACE  CONSIS  CONTR  MEMBRAN  AGE  GRAVID  PARIT  DIAB  \\\n",
       "0    31       3     100       3      1        2   26       1      0     2   \n",
       "1    28       8       0       3      1        2   25       1      0     2   \n",
       "2    31       3     100       3      2        2   28       2      0     2   \n",
       "3    27       2      75       3      2        2   27       2      1     2   \n",
       "4    28       6      75       3      2        2   17       1      0     2   \n",
       "\n",
       "   TRANSF  GEMEL PREMATURE  \n",
       "0       2      1   positif  \n",
       "1       1      2   positif  \n",
       "2       1      1   positif  \n",
       "3       1      2   positif  \n",
       "4       1      1   positif  "
      ]
     },
     "execution_count": 172,
     "metadata": {},
     "output_type": "execute_result"
    }
   ],
   "source": [
    "# Importer le jeu de donnnées \"Prematures.xls\" avec pandas et le mettre dans une variable appelée : prematures \n",
    "\n",
    "prematures = pd.read_excel(\"data/Prematures.xls\")\n",
    "\n",
    "# Afficher les premières lignes \n",
    "\n",
    "prematures.head()"
   ]
  },
  {
   "cell_type": "markdown",
   "metadata": {},
   "source": [
    "## B - Etude des variables initiales du jeu de données"
   ]
  },
  {
   "cell_type": "markdown",
   "metadata": {},
   "source": [
    "Dans un premier temps nous allons préparer le jeu de donnée `prematures` en vue de réaliser l'apprentissage supervisé d'un arbre de décision. \n",
    "\n",
    "Pour ce faire, il est nécessaire de séparer les données d'entrées correspondant aux variables descriptives du problème (GEST, DILATE, EFFACE, CONSIS, CONTR, MEMBRAN, AGE, GRAVID, PARIT, DIAB, TRANSF, GEMEL) de la variable de sortie appelée aussi variable objective du problème (PREMATURE). \n",
    "\n",
    "On utilise généralement `X` comme nom de variable correspondant aux données d'entrée et `y` la variable de sortie. "
   ]
  },
  {
   "cell_type": "code",
   "execution_count": 173,
   "metadata": {},
   "outputs": [],
   "source": [
    "# Créer une variable X_columns (liste) avec les colonnes \"GEST\", \"DILATE\", \"EFFACE\", \"CONSIS\",\"CONTR\", \"MEMBRAN\", \"AGE\", \"GRAVID\", \"PARIT\", \"DIAB\", \"TRANSF\", \"GEMEL\"\n",
    "X_columns = ['GEST', 'DILATE', 'EFFACE', 'CONSIS', 'MEMBRAN', 'AGE', 'PARIT', 'TRANSF', 'GEMEL']\n",
    "\n",
    "# Mettre dans une variable X le résultat du filtrage du dataset iris sur les colonnes de X_columns\n",
    "X = prematures[X_columns]\n",
    "\n",
    "# Mettre dans la variable y la colonne \"PREMATURE\"\n",
    "Y = prematures.PREMATURE"
   ]
  },
  {
   "cell_type": "markdown",
   "metadata": {},
   "source": [
    "Une fois cette première étape réalisée, il est ensuite nécessaire de séparer le jeu de données en données d'entraînement (80% du jeu de données) et données de test (20% restants). \n",
    "\n",
    "Pour cela on utilisera la fonction `train_test_split` de la librairie scikit-learn. Celle-ci permet de **séparer aléatoirement** le jeu de données. Elle prend en entrée `X` et `y` retourne 4 variables  `X_train, X_test, y_train, y_test`. Afin de \"contrôler l'aléatoire\" de cette séparation, nous rajouterons en entrée de la fonction `random_state=18` afin d'avoir tous le même jeu de données. (On aurait pu choisir n'importe quelle valeur autre que 18 mais cette valeur me permettra d'être sure que vous obtiendrez tous le même arbre de décision). "
   ]
  },
  {
   "cell_type": "code",
   "execution_count": 174,
   "metadata": {},
   "outputs": [],
   "source": [
    "# Séparer les données de (X et y) et données d'entrainement et de test en utilisant la fonction `train_test_split`\n",
    "## Ne pas oublier le parametre \"random_state=18\"\n",
    "\n",
    "X_train, X_test, Y_train, Y_test = train_test_split(X, Y,\n",
    "test_size = 0.20, random_state = 18)"
   ]
  },
  {
   "cell_type": "markdown",
   "metadata": {},
   "source": [
    "Nous allons maintenant créer une instance d'arbre de décision en appelant `DecisionTreeClassifier()`. Nous utiliserons pour l'instant les paramètres par défaut de ce type d'arbre.. mais vous pouvez aller consulter l'aide (`help(DecisionTreeClassifier)`) pour plus de précisions sur les paramètres possibles.\n",
    "\n",
    "Pour l'entraîner, il suffit d'appeler la méthode `fit` sur l'instance créée et lui passer en paramètre `X_train` et `y_train` (dans cet ordre). "
   ]
  },
  {
   "cell_type": "code",
   "execution_count": 175,
   "metadata": {},
   "outputs": [
    {
     "data": {
      "text/plain": [
       "DecisionTreeClassifier()"
      ]
     },
     "execution_count": 175,
     "metadata": {},
     "output_type": "execute_result"
    }
   ],
   "source": [
    "# Créer une instance de la classe `DecisionTreeClassifier` dans une variable appelée : dt\n",
    "dt = DecisionTreeClassifier()\n",
    "\n",
    "# Appeler la méthode fit sur l'instance créée avec en paramètre X_train et y_train\n",
    "dt.fit(X_train, Y_train)"
   ]
  },
  {
   "cell_type": "markdown",
   "metadata": {},
   "source": [
    "Nous allons maintenant essayer d'afficher l'arbre de décision pour comprendre les règles qu'il a construit. Pour cela : \n",
    "- dans un premier temps nous afficherons sous forme de texte l'ensemble de règles construites avec la fonction `export_text` (importée du module tree de sklearn). Elle prend en paramètre `dt` un arbre de décision entraîné, et `feature_names` la liste des variables utilisées dans X (par exemple X.columns)\n",
    "\n",
    "- dans un second temps, nous l'afficherons sous forme de graphe avec la fonction `plot_tree` (issue du module tree de sklearn). Elle prend en paramètre `dt` un arbre de décision entraîné, `feature_names` la liste des variables utilisées dans X (et éventuellement filled=True pour une meilleure lisibilité). \n",
    "\n",
    "Remarque : Nous utiliserons `plt.figure(figsize=(20,20)` avant la création du graphe puis `plt.show()` après pour obtenir un graphe plus grand. Nous pourrons également ajouter un titre avant l'appel à `plt.show()` pour plus de clarté."
   ]
  },
  {
   "cell_type": "code",
   "execution_count": 176,
   "metadata": {},
   "outputs": [
    {
     "name": "stdout",
     "output_type": "stream",
     "text": [
      "|--- EFFACE <= 72.50\n",
      "|   |--- MEMBRAN <= 1.50\n",
      "|   |   |--- GEST <= 22.00\n",
      "|   |   |   |--- class: negatif\n",
      "|   |   |--- GEST >  22.00\n",
      "|   |   |   |--- CONSIS <= 1.50\n",
      "|   |   |   |   |--- GEST <= 30.00\n",
      "|   |   |   |   |   |--- class: positif\n",
      "|   |   |   |   |--- GEST >  30.00\n",
      "|   |   |   |   |   |--- GEST <= 32.50\n",
      "|   |   |   |   |   |   |--- AGE <= 33.50\n",
      "|   |   |   |   |   |   |   |--- class: negatif\n",
      "|   |   |   |   |   |   |--- AGE >  33.50\n",
      "|   |   |   |   |   |   |   |--- class: positif\n",
      "|   |   |   |   |   |--- GEST >  32.50\n",
      "|   |   |   |   |   |   |--- class: positif\n",
      "|   |   |   |--- CONSIS >  1.50\n",
      "|   |   |   |   |--- GEST <= 28.50\n",
      "|   |   |   |   |   |--- CONSIS <= 2.50\n",
      "|   |   |   |   |   |   |--- class: positif\n",
      "|   |   |   |   |   |--- CONSIS >  2.50\n",
      "|   |   |   |   |   |   |--- GEMEL <= 1.50\n",
      "|   |   |   |   |   |   |   |--- class: negatif\n",
      "|   |   |   |   |   |   |--- GEMEL >  1.50\n",
      "|   |   |   |   |   |   |   |--- class: positif\n",
      "|   |   |   |   |--- GEST >  28.50\n",
      "|   |   |   |   |   |--- class: positif\n",
      "|   |--- MEMBRAN >  1.50\n",
      "|   |   |--- GEST <= 30.50\n",
      "|   |   |   |--- CONSIS <= 2.50\n",
      "|   |   |   |   |--- GEMEL <= 1.50\n",
      "|   |   |   |   |   |--- AGE <= 17.50\n",
      "|   |   |   |   |   |   |--- class: positif\n",
      "|   |   |   |   |   |--- AGE >  17.50\n",
      "|   |   |   |   |   |   |--- GEST <= 27.50\n",
      "|   |   |   |   |   |   |   |--- AGE <= 21.00\n",
      "|   |   |   |   |   |   |   |   |--- class: negatif\n",
      "|   |   |   |   |   |   |   |--- AGE >  21.00\n",
      "|   |   |   |   |   |   |   |   |--- AGE <= 28.00\n",
      "|   |   |   |   |   |   |   |   |   |--- GEST <= 26.50\n",
      "|   |   |   |   |   |   |   |   |   |   |--- GEST <= 24.50\n",
      "|   |   |   |   |   |   |   |   |   |   |   |--- truncated branch of depth 2\n",
      "|   |   |   |   |   |   |   |   |   |   |--- GEST >  24.50\n",
      "|   |   |   |   |   |   |   |   |   |   |   |--- class: positif\n",
      "|   |   |   |   |   |   |   |   |   |--- GEST >  26.50\n",
      "|   |   |   |   |   |   |   |   |   |   |--- CONSIS <= 1.50\n",
      "|   |   |   |   |   |   |   |   |   |   |   |--- class: positif\n",
      "|   |   |   |   |   |   |   |   |   |   |--- CONSIS >  1.50\n",
      "|   |   |   |   |   |   |   |   |   |   |   |--- class: negatif\n",
      "|   |   |   |   |   |   |   |   |--- AGE >  28.00\n",
      "|   |   |   |   |   |   |   |   |   |--- CONSIS <= 1.50\n",
      "|   |   |   |   |   |   |   |   |   |   |--- class: negatif\n",
      "|   |   |   |   |   |   |   |   |   |--- CONSIS >  1.50\n",
      "|   |   |   |   |   |   |   |   |   |   |--- class: positif\n",
      "|   |   |   |   |   |   |--- GEST >  27.50\n",
      "|   |   |   |   |   |   |   |--- CONSIS <= 1.50\n",
      "|   |   |   |   |   |   |   |   |--- GEST <= 28.50\n",
      "|   |   |   |   |   |   |   |   |   |--- class: negatif\n",
      "|   |   |   |   |   |   |   |   |--- GEST >  28.50\n",
      "|   |   |   |   |   |   |   |   |   |--- class: positif\n",
      "|   |   |   |   |   |   |   |--- CONSIS >  1.50\n",
      "|   |   |   |   |   |   |   |   |--- TRANSF <= 1.50\n",
      "|   |   |   |   |   |   |   |   |   |--- GEST <= 28.50\n",
      "|   |   |   |   |   |   |   |   |   |   |--- class: negatif\n",
      "|   |   |   |   |   |   |   |   |   |--- GEST >  28.50\n",
      "|   |   |   |   |   |   |   |   |   |   |--- class: positif\n",
      "|   |   |   |   |   |   |   |   |--- TRANSF >  1.50\n",
      "|   |   |   |   |   |   |   |   |   |--- GEST <= 28.50\n",
      "|   |   |   |   |   |   |   |   |   |   |--- EFFACE <= 12.50\n",
      "|   |   |   |   |   |   |   |   |   |   |   |--- class: negatif\n",
      "|   |   |   |   |   |   |   |   |   |   |--- EFFACE >  12.50\n",
      "|   |   |   |   |   |   |   |   |   |   |   |--- truncated branch of depth 3\n",
      "|   |   |   |   |   |   |   |   |   |--- GEST >  28.50\n",
      "|   |   |   |   |   |   |   |   |   |   |--- class: negatif\n",
      "|   |   |   |   |--- GEMEL >  1.50\n",
      "|   |   |   |   |   |--- class: positif\n",
      "|   |   |   |--- CONSIS >  2.50\n",
      "|   |   |   |   |--- DILATE <= 0.50\n",
      "|   |   |   |   |   |--- TRANSF <= 1.50\n",
      "|   |   |   |   |   |   |--- PARIT <= 1.50\n",
      "|   |   |   |   |   |   |   |--- class: positif\n",
      "|   |   |   |   |   |   |--- PARIT >  1.50\n",
      "|   |   |   |   |   |   |   |--- class: negatif\n",
      "|   |   |   |   |   |--- TRANSF >  1.50\n",
      "|   |   |   |   |   |   |--- AGE <= 18.00\n",
      "|   |   |   |   |   |   |   |--- class: positif\n",
      "|   |   |   |   |   |   |--- AGE >  18.00\n",
      "|   |   |   |   |   |   |   |--- EFFACE <= 22.50\n",
      "|   |   |   |   |   |   |   |   |--- PARIT <= 1.00\n",
      "|   |   |   |   |   |   |   |   |   |--- GEST <= 28.00\n",
      "|   |   |   |   |   |   |   |   |   |   |--- class: positif\n",
      "|   |   |   |   |   |   |   |   |   |--- GEST >  28.00\n",
      "|   |   |   |   |   |   |   |   |   |   |--- class: negatif\n",
      "|   |   |   |   |   |   |   |   |--- PARIT >  1.00\n",
      "|   |   |   |   |   |   |   |   |   |--- class: positif\n",
      "|   |   |   |   |   |   |   |--- EFFACE >  22.50\n",
      "|   |   |   |   |   |   |   |   |--- class: negatif\n",
      "|   |   |   |   |--- DILATE >  0.50\n",
      "|   |   |   |   |   |--- EFFACE <= 47.50\n",
      "|   |   |   |   |   |   |--- GEST <= 27.50\n",
      "|   |   |   |   |   |   |   |--- class: negatif\n",
      "|   |   |   |   |   |   |--- GEST >  27.50\n",
      "|   |   |   |   |   |   |   |--- PARIT <= 1.50\n",
      "|   |   |   |   |   |   |   |   |--- class: positif\n",
      "|   |   |   |   |   |   |   |--- PARIT >  1.50\n",
      "|   |   |   |   |   |   |   |   |--- class: negatif\n",
      "|   |   |   |   |   |--- EFFACE >  47.50\n",
      "|   |   |   |   |   |   |--- class: positif\n",
      "|   |   |--- GEST >  30.50\n",
      "|   |   |   |--- EFFACE <= 45.00\n",
      "|   |   |   |   |--- MEMBRAN <= 2.50\n",
      "|   |   |   |   |   |--- GEST <= 31.50\n",
      "|   |   |   |   |   |   |--- EFFACE <= 10.00\n",
      "|   |   |   |   |   |   |   |--- AGE <= 25.50\n",
      "|   |   |   |   |   |   |   |   |--- CONSIS <= 2.50\n",
      "|   |   |   |   |   |   |   |   |   |--- class: negatif\n",
      "|   |   |   |   |   |   |   |   |--- CONSIS >  2.50\n",
      "|   |   |   |   |   |   |   |   |   |--- AGE <= 24.50\n",
      "|   |   |   |   |   |   |   |   |   |   |--- class: positif\n",
      "|   |   |   |   |   |   |   |   |   |--- AGE >  24.50\n",
      "|   |   |   |   |   |   |   |   |   |   |--- class: negatif\n",
      "|   |   |   |   |   |   |   |--- AGE >  25.50\n",
      "|   |   |   |   |   |   |   |   |--- class: positif\n",
      "|   |   |   |   |   |   |--- EFFACE >  10.00\n",
      "|   |   |   |   |   |   |   |--- class: negatif\n",
      "|   |   |   |   |   |--- GEST >  31.50\n",
      "|   |   |   |   |   |   |--- DILATE <= 2.50\n",
      "|   |   |   |   |   |   |   |--- DILATE <= 0.50\n",
      "|   |   |   |   |   |   |   |   |--- AGE <= 26.50\n",
      "|   |   |   |   |   |   |   |   |   |--- AGE <= 20.50\n",
      "|   |   |   |   |   |   |   |   |   |   |--- GEST <= 33.00\n",
      "|   |   |   |   |   |   |   |   |   |   |   |--- class: negatif\n",
      "|   |   |   |   |   |   |   |   |   |   |--- GEST >  33.00\n",
      "|   |   |   |   |   |   |   |   |   |   |   |--- class: negatif\n",
      "|   |   |   |   |   |   |   |   |   |--- AGE >  20.50\n",
      "|   |   |   |   |   |   |   |   |   |   |--- class: negatif\n",
      "|   |   |   |   |   |   |   |   |--- AGE >  26.50\n",
      "|   |   |   |   |   |   |   |   |   |--- PARIT <= 3.00\n",
      "|   |   |   |   |   |   |   |   |   |   |--- CONSIS <= 1.50\n",
      "|   |   |   |   |   |   |   |   |   |   |   |--- truncated branch of depth 2\n",
      "|   |   |   |   |   |   |   |   |   |   |--- CONSIS >  1.50\n",
      "|   |   |   |   |   |   |   |   |   |   |   |--- truncated branch of depth 4\n",
      "|   |   |   |   |   |   |   |   |   |--- PARIT >  3.00\n",
      "|   |   |   |   |   |   |   |   |   |   |--- class: negatif\n",
      "|   |   |   |   |   |   |   |--- DILATE >  0.50\n",
      "|   |   |   |   |   |   |   |   |--- EFFACE <= 5.00\n",
      "|   |   |   |   |   |   |   |   |   |--- class: negatif\n",
      "|   |   |   |   |   |   |   |   |--- EFFACE >  5.00\n",
      "|   |   |   |   |   |   |   |   |   |--- EFFACE <= 17.50\n",
      "|   |   |   |   |   |   |   |   |   |   |--- class: positif\n",
      "|   |   |   |   |   |   |   |   |   |--- EFFACE >  17.50\n",
      "|   |   |   |   |   |   |   |   |   |   |--- class: negatif\n",
      "|   |   |   |   |   |   |--- DILATE >  2.50\n",
      "|   |   |   |   |   |   |   |--- class: positif\n",
      "|   |   |   |   |--- MEMBRAN >  2.50\n",
      "|   |   |   |   |   |--- class: positif\n",
      "|   |   |   |--- EFFACE >  45.00\n",
      "|   |   |   |   |--- CONSIS <= 2.50\n",
      "|   |   |   |   |   |--- CONSIS <= 1.50\n",
      "|   |   |   |   |   |   |--- class: negatif\n",
      "|   |   |   |   |   |--- CONSIS >  1.50\n",
      "|   |   |   |   |   |   |--- AGE <= 39.00\n",
      "|   |   |   |   |   |   |   |--- AGE <= 25.50\n",
      "|   |   |   |   |   |   |   |   |--- AGE <= 21.50\n",
      "|   |   |   |   |   |   |   |   |   |--- class: positif\n",
      "|   |   |   |   |   |   |   |   |--- AGE >  21.50\n",
      "|   |   |   |   |   |   |   |   |   |--- class: negatif\n",
      "|   |   |   |   |   |   |   |--- AGE >  25.50\n",
      "|   |   |   |   |   |   |   |   |--- DILATE <= 0.50\n",
      "|   |   |   |   |   |   |   |   |   |--- GEST <= 33.00\n",
      "|   |   |   |   |   |   |   |   |   |   |--- class: negatif\n",
      "|   |   |   |   |   |   |   |   |   |--- GEST >  33.00\n",
      "|   |   |   |   |   |   |   |   |   |   |--- class: positif\n",
      "|   |   |   |   |   |   |   |   |--- DILATE >  0.50\n",
      "|   |   |   |   |   |   |   |   |   |--- class: positif\n",
      "|   |   |   |   |   |   |--- AGE >  39.00\n",
      "|   |   |   |   |   |   |   |--- class: negatif\n",
      "|   |   |   |   |--- CONSIS >  2.50\n",
      "|   |   |   |   |   |--- AGE <= 21.50\n",
      "|   |   |   |   |   |   |--- class: negatif\n",
      "|   |   |   |   |   |--- AGE >  21.50\n",
      "|   |   |   |   |   |   |--- AGE <= 25.50\n",
      "|   |   |   |   |   |   |   |--- class: positif\n",
      "|   |   |   |   |   |   |--- AGE >  25.50\n",
      "|   |   |   |   |   |   |   |--- DILATE <= 0.50\n",
      "|   |   |   |   |   |   |   |   |--- class: negatif\n",
      "|   |   |   |   |   |   |   |--- DILATE >  0.50\n",
      "|   |   |   |   |   |   |   |   |--- GEST <= 33.50\n",
      "|   |   |   |   |   |   |   |   |   |--- AGE <= 26.50\n",
      "|   |   |   |   |   |   |   |   |   |   |--- class: positif\n",
      "|   |   |   |   |   |   |   |   |   |--- AGE >  26.50\n",
      "|   |   |   |   |   |   |   |   |   |   |--- AGE <= 34.00\n",
      "|   |   |   |   |   |   |   |   |   |   |   |--- class: negatif\n",
      "|   |   |   |   |   |   |   |   |   |   |--- AGE >  34.00\n",
      "|   |   |   |   |   |   |   |   |   |   |   |--- class: positif\n",
      "|   |   |   |   |   |   |   |   |--- GEST >  33.50\n",
      "|   |   |   |   |   |   |   |   |   |--- class: positif\n",
      "|--- EFFACE >  72.50\n",
      "|   |--- DILATE <= 1.50\n",
      "|   |   |--- AGE <= 27.50\n",
      "|   |   |   |--- CONSIS <= 2.50\n",
      "|   |   |   |   |--- MEMBRAN <= 1.50\n",
      "|   |   |   |   |   |--- class: positif\n",
      "|   |   |   |   |--- MEMBRAN >  1.50\n",
      "|   |   |   |   |   |--- AGE <= 20.00\n",
      "|   |   |   |   |   |   |--- class: positif\n",
      "|   |   |   |   |   |--- AGE >  20.00\n",
      "|   |   |   |   |   |   |--- AGE <= 24.00\n",
      "|   |   |   |   |   |   |   |--- class: negatif\n",
      "|   |   |   |   |   |   |--- AGE >  24.00\n",
      "|   |   |   |   |   |   |   |--- class: positif\n",
      "|   |   |   |--- CONSIS >  2.50\n",
      "|   |   |   |   |--- class: positif\n",
      "|   |   |--- AGE >  27.50\n",
      "|   |   |   |--- PARIT <= 0.50\n",
      "|   |   |   |   |--- class: positif\n",
      "|   |   |   |--- PARIT >  0.50\n",
      "|   |   |   |   |--- GEST <= 24.50\n",
      "|   |   |   |   |   |--- class: positif\n",
      "|   |   |   |   |--- GEST >  24.50\n",
      "|   |   |   |   |   |--- EFFACE <= 99.50\n",
      "|   |   |   |   |   |   |--- class: negatif\n",
      "|   |   |   |   |   |--- EFFACE >  99.50\n",
      "|   |   |   |   |   |   |--- class: positif\n",
      "|   |--- DILATE >  1.50\n",
      "|   |   |--- class: positif\n",
      "\n"
     ]
    }
   ],
   "source": [
    "# Utiliser la fonction print sur la sortie de la fonction export_text avec en parametre dt et le nom des colonnes du jeu de données \n",
    "r = export_text(dt, feature_names=X_columns)\n",
    "print(r)"
   ]
  },
  {
   "cell_type": "code",
   "execution_count": 177,
   "metadata": {},
   "outputs": [
    {
     "data": {
      "image/png": "[encoded data removed]",
      "text/plain": [
       "<Figure size 1440x1440 with 1 Axes>"
      ]
     },
     "metadata": {
      "needs_background": "light"
     },
     "output_type": "display_data"
    }
   ],
   "source": [
    "plt.figure(figsize=(20,20)) # permet d'aggrandir la taille de la figure\n",
    "\n",
    "# Utiliser la fonction plot_tree avec en parametre dt et le nom des colonnes du jeu de données \n",
    "plot_tree(dt,feature_names=X_columns,filled=True)\n",
    "\n",
    "# rajouter un titre\n",
    "plt.title('Arbre de décision pour la prédiction de la variable PREMATURE')\n",
    "\n",
    "# utiliser la fonction d'afficahge de matplotlib \n",
    "plt.show()"
   ]
  },
  {
   "cell_type": "markdown",
   "metadata": {},
   "source": [
    "#### Evaluation de la qualité des résultats fournis par l'arbre de décision\n",
    "\n",
    "**Méthode 1** \\\n",
    "Dans cette dernière partie, nous allons évaluer la qualité de l'arbre construit au regard de la tâche de séparation des 2 types d'accouchement (prématuré ou normal). Pour ce faire, nous allons utiliser la partie du jeu de donnés qui n'a pas été utilisée pendant l'entraînement de l'arbre de décision `X_test` pour : \n",
    "- réaliser une prédiction avec en utilisant l'arbre de décision(`y_predict`)  \n",
    "- et évaluer la similitude entre `y_predict` et `y_test` \n",
    "\n",
    "Pour réaliser une prédiction, il faut appeler la méthode `predict` de l'arbre en lui passant en paramètre `X_test` : \n"
   ]
  },
  {
   "cell_type": "code",
   "execution_count": 178,
   "metadata": {},
   "outputs": [],
   "source": [
    "# mettre le résultat méthode prédict appliquée au dataset de test dans une nouvelle variable y_predict\n",
    "y_predict = dt.predict(X_test)"
   ]
  },
  {
   "cell_type": "markdown",
   "metadata": {},
   "source": [
    "Dans le cas de méthodes de classification, l'évaluation de la qualité de l'arbre (ou de la méthode de prédiction en général) se fait au moyen de la fonction `accuracy_score` du module metrics de sklearn. Elle prend en paramètre y_test et y_predict et retourne un score entre 0 et 1 correspondant à la fraction d'exemples correctement classifiés."
   ]
  },
  {
   "cell_type": "code",
   "execution_count": 179,
   "metadata": {},
   "outputs": [
    {
     "data": {
      "text/plain": [
       "0.7051282051282052"
      ]
     },
     "execution_count": 179,
     "metadata": {},
     "output_type": "execute_result"
    }
   ],
   "source": [
    "# utiliser la fonction accuracy_score avec en paramètre y_test et y_predict\n",
    "accuracy_score(Y_test, y_predict)"
   ]
  },
  {
   "cell_type": "markdown",
   "metadata": {},
   "source": [
    "**Méthode 2** \\\n",
    "On peut également obtenir le score de performance de l'arbre de décision grâce à la méthode `score` de `dt`. Cette méthode prend en paramètre `X_test` et `y_test` et retourne le même score d'accuracy que précédemment. On peut donc faire le même calcul en 1 seule ligne au lieu de 2."
   ]
  },
  {
   "cell_type": "code",
   "execution_count": 180,
   "metadata": {},
   "outputs": [
    {
     "data": {
      "text/plain": [
       "0.7051282051282052"
      ]
     },
     "execution_count": 180,
     "metadata": {},
     "output_type": "execute_result"
    }
   ],
   "source": [
    "# utiliser la méthode score de l'objet dt avec en paramètres X_test et Y_test\n",
    "dt.score(X_test,Y_test)"
   ]
  },
  {
   "cell_type": "markdown",
   "metadata": {},
   "source": [
    "Pour aller plus loins dans l'analyse, il est aussi possible d'utiliser la fonction `confusion_matrix` du module metrics de sklearn (`metrics.sklearn`). Elle retourne un tableau où chaque ligne correspond à la classe prédite et chaque colonne à la vraie classe.\n",
    "\n",
    "Pour que toutes les classes soient correctement classifiées, il faut qu'il n'y ait que des éléments sur la diagonale. "
   ]
  },
  {
   "cell_type": "code",
   "execution_count": 181,
   "metadata": {},
   "outputs": [
    {
     "data": {
      "text/plain": [
       "array([[15, 12],\n",
       "       [11, 40]], dtype=int64)"
      ]
     },
     "execution_count": 181,
     "metadata": {},
     "output_type": "execute_result"
    }
   ],
   "source": [
    "# Scikit-Learn permet aussi de calculer la matrice de confusion:\n",
    "# application de la fonction confusion_matrix avec en paramètres Y_test et y_predict\n",
    "\n",
    "conf = confusion_matrix(Y_test, y_predict)\n",
    "conf"
   ]
  },
  {
   "cell_type": "code",
   "execution_count": 182,
   "metadata": {},
   "outputs": [
    {
     "data": {
      "image/png": "[encoded data removed]",
      "text/plain": [
       "<Figure size 432x288 with 1 Axes>"
      ]
     },
     "metadata": {
      "needs_background": "light"
     },
     "output_type": "display_data"
    }
   ],
   "source": [
    "# Et Seaborn permet de la représenter avec le Heatmap\n",
    "\n",
    "sns.heatmap(conf, square=True, annot=True, cbar=False\n",
    "            , xticklabels=list(prematures[\"PREMATURE\"].unique())\n",
    "            , yticklabels=list(prematures[\"PREMATURE\"].unique()))\n",
    "plt.xlabel('valeurs prédites')\n",
    "plt.ylabel('valeurs réelles');"
   ]
  },
  {
   "cell_type": "markdown",
   "metadata": {},
   "source": [
    "Sur les 78 accouchements prédits, 10 accouchements normaux ont été confondues avec des accouchements prématurés. De plus, 12 accouchements prématurés ont été confondues avec des accouchements normaux."
   ]
  },
  {
   "cell_type": "markdown",
   "metadata": {},
   "source": [
    "Voyons si on peut mieux faire.. "
   ]
  },
  {
   "cell_type": "markdown",
   "metadata": {},
   "source": [
    "# IV - Random Forest"
   ]
  },
  {
   "cell_type": "markdown",
   "metadata": {},
   "source": [
    "### A - Import la classe RandomForestClassifier\n",
    "\n",
    "Importer la classe RandomForestClassifier à partir du module ensemble de sklearn."
   ]
  },
  {
   "cell_type": "code",
   "execution_count": 183,
   "metadata": {},
   "outputs": [],
   "source": [
    "# Importer la classe RandomForestClassifier issue du module sklearn.ensemble\n",
    "from sklearn.ensemble import RandomForestClassifier"
   ]
  },
  {
   "cell_type": "markdown",
   "metadata": {},
   "source": [
    "### B - Préparation du jeu de données pour l'entrainement de random forest\n",
    "Nous devons séparer le jeu de données en variables descriptives à mettre en entrée de la prédiction (dans la variable `X`) et la variable cible, celle de la sortie à prédire (variable `y`).\n",
    "\n",
    "Cette fois-ci nous allons utiliser une autre méthode du dataframe : `drop`\n",
    "Cette méthode prend en paramètre `columns=une_liste_des_variables_à_supprimer` et retourne **une copie** du jeu de données sans les colonnes que l'on a supprimé. **Le jeu de données d'origine n'a lui pas été modifié**\n",
    "\n",
    "Remarque : si l'on souhaite supprimer directement la colonne dans le jeu de données il faut rajouter l'argument `inplace=True`"
   ]
  },
  {
   "cell_type": "code",
   "execution_count": 188,
   "metadata": {},
   "outputs": [],
   "source": [
    "# utiliser la méthode drop sur le dataframe prematures avec en paramètre une liste comportant \"PREMATURE\" et mettre le résultat dans une variable : X\n",
    "# X = prematures.drop(columns=[\"PREMATURE\"],inplace=True)\n",
    "X = prematures.drop(columns=[\"PREMATURE\"])\n",
    "X = X[X_columns]\n",
    "\n",
    "# récupérer la colonne PREMATURE du dataframe prematures et le mettre dans la variable y \n",
    "Y = prematures.PREMATURE"
   ]
  },
  {
   "cell_type": "markdown",
   "metadata": {},
   "source": [
    "Séparer enfin le jeu de données (X et y) et données d'entraînement et de test. \n",
    "**On choisit ici random_state=42**"
   ]
  },
  {
   "cell_type": "code",
   "execution_count": 190,
   "metadata": {},
   "outputs": [],
   "source": [
    "# séparation de X et y en jeu de données d'entrainement et de test avec la fonction train_test_split\n",
    "X_train, X_test, Y_train, Y_test = train_test_split(X, Y, random_state = 42)"
   ]
  },
  {
   "cell_type": "markdown",
   "metadata": {},
   "source": [
    "Créer une forêt d'arbres de décision `RandomForestClassifier` et l'entraîner.\n",
    "\n",
    "**/!\\** Utiliser le paramètre **random_state=42** pour pouvoir comparer vos résultats entre vous\n",
    "\n",
    "Ex : `RandomForestClassifier(random_state=42)`"
   ]
  },
  {
   "cell_type": "code",
   "execution_count": 191,
   "metadata": {},
   "outputs": [],
   "source": [
    "# création d'une forêt aléatoire (random forest) dans la variable : rf\n",
    "rf = RandomForestClassifier(random_state=42)"
   ]
  },
  {
   "cell_type": "code",
   "execution_count": 192,
   "metadata": {},
   "outputs": [
    {
     "data": {
      "text/plain": [
       "RandomForestClassifier(random_state=42)"
      ]
     },
     "execution_count": 192,
     "metadata": {},
     "output_type": "execute_result"
    }
   ],
   "source": [
    "# Entrainement de la forêt sur le jeu de données d'entraînement \n",
    "rf.fit(X_train,Y_train)"
   ]
  },
  {
   "cell_type": "markdown",
   "metadata": {},
   "source": [
    "Evaluer la performance de votre classifier "
   ]
  },
  {
   "cell_type": "code",
   "execution_count": 193,
   "metadata": {},
   "outputs": [
    {
     "data": {
      "text/plain": [
       "0.7448979591836735"
      ]
     },
     "execution_count": 193,
     "metadata": {},
     "output_type": "execute_result"
    }
   ],
   "source": [
    "# Utilisons la méthode de votre choix pour évaluer la performance de la forêt aléatoire  \n",
    "rf.score(X_test,Y_test)"
   ]
  },
  {
   "cell_type": "markdown",
   "metadata": {},
   "source": [
    "### C - Comparaison du score à celui d'un arbre de décision classique\n",
    "Nous pouvons maintenant nous comparer à l'arbre de décision seul (exécuter simplement la cellule) "
   ]
  },
  {
   "cell_type": "code",
   "execution_count": 194,
   "metadata": {},
   "outputs": [
    {
     "name": "stdout",
     "output_type": "stream",
     "text": [
      "Accuracy du decision tree seul : 0.6938775510204082\n"
     ]
    }
   ],
   "source": [
    "def compare_to_decision_tree(X_train, X_test, Y_train, Y_test):\n",
    "    dt = DecisionTreeClassifier(random_state=42)\n",
    "    dt.fit(X_train, Y_train)\n",
    "    y_predict = dt.predict(X_test)\n",
    "    score = accuracy_score(Y_test, y_predict)\n",
    "    print('Accuracy du decision tree seul : {}'.format(score))\n",
    "    \n",
    "    \n",
    "compare_to_decision_tree(X_train, X_test, Y_train, Y_test)"
   ]
  },
  {
   "cell_type": "markdown",
   "metadata": {},
   "source": [
    "Si notre score est supérieur à celui de l'arbre de décision seul, bravo ! \n",
    "Sinon, essayons de choisir de nouveaux paramètres à rajouter lors de la création de notre forêt d'arbres aléatoire. \n",
    "\n",
    "\n",
    "\n",
    "### D - Les attributs de la classe RandomForestClassifier\n",
    "\n",
    "Une fois entraîné, on peut accédé à différents attributs intéressants de l'objet random forest. Nous en présenterons deux ici : \n",
    "- l'attribut `estimators_` permet d'accéder à **tous les arbres seuls qui constituent notre forêt**. Ils sont présentés sous forme d'une liste (pour rappel chaque élément peut être accédé par son indice dans la liste). \n",
    "\n",
    "- l'attribut `feature_importances_` permet d'estimer l'**importance de chacune des variables d'entrée** dans le résultat prédit par la forêt."
   ]
  },
  {
   "cell_type": "code",
   "execution_count": 195,
   "metadata": {},
   "outputs": [
    {
     "data": {
      "text/plain": [
       "array([0.18274906, 0.08967654, 0.19032018, 0.07385979, 0.09271156,\n",
       "       0.20589609, 0.09342569, 0.04456237, 0.02679873])"
      ]
     },
     "execution_count": 195,
     "metadata": {},
     "output_type": "execute_result"
    }
   ],
   "source": [
    "rf.feature_importances_"
   ]
  },
  {
   "cell_type": "code",
   "execution_count": 196,
   "metadata": {},
   "outputs": [
    {
     "data": {
      "text/html": [
       "<style  type=\"text/css\" >\n",
       "    #T_6a4ede46_ba42_11eb_b14e_e4e749655c86row0_col0 {\n",
       "            background-color:  #df634e;\n",
       "            color:  #000000;\n",
       "        }    #T_6a4ede46_ba42_11eb_b14e_e4e749655c86row1_col0 {\n",
       "            background-color:  #afcafc;\n",
       "            color:  #000000;\n",
       "        }    #T_6a4ede46_ba42_11eb_b14e_e4e749655c86row2_col0 {\n",
       "            background-color:  #d24b40;\n",
       "            color:  #f1f1f1;\n",
       "        }    #T_6a4ede46_ba42_11eb_b14e_e4e749655c86row3_col0 {\n",
       "            background-color:  #92b4fe;\n",
       "            color:  #000000;\n",
       "        }    #T_6a4ede46_ba42_11eb_b14e_e4e749655c86row4_col0 {\n",
       "            background-color:  #b6cefa;\n",
       "            color:  #000000;\n",
       "        }    #T_6a4ede46_ba42_11eb_b14e_e4e749655c86row5_col0 {\n",
       "            background-color:  #b40426;\n",
       "            color:  #f1f1f1;\n",
       "        }    #T_6a4ede46_ba42_11eb_b14e_e4e749655c86row6_col0 {\n",
       "            background-color:  #b7cff9;\n",
       "            color:  #000000;\n",
       "        }    #T_6a4ede46_ba42_11eb_b14e_e4e749655c86row7_col0 {\n",
       "            background-color:  #5977e3;\n",
       "            color:  #000000;\n",
       "        }    #T_6a4ede46_ba42_11eb_b14e_e4e749655c86row8_col0 {\n",
       "            background-color:  #3b4cc0;\n",
       "            color:  #f1f1f1;\n",
       "        }</style><table id=\"T_6a4ede46_ba42_11eb_b14e_e4e749655c86\" ><thead>    <tr>        <th class=\"blank level0\" ></th>        <th class=\"col_heading level0 col0\" >Feature importance</th>    </tr></thead><tbody>\n",
       "                <tr>\n",
       "                        <th id=\"T_6a4ede46_ba42_11eb_b14e_e4e749655c86level0_row0\" class=\"row_heading level0 row0\" >GEST</th>\n",
       "                        <td id=\"T_6a4ede46_ba42_11eb_b14e_e4e749655c86row0_col0\" class=\"data row0 col0\" >0.182749</td>\n",
       "            </tr>\n",
       "            <tr>\n",
       "                        <th id=\"T_6a4ede46_ba42_11eb_b14e_e4e749655c86level0_row1\" class=\"row_heading level0 row1\" >DILATE</th>\n",
       "                        <td id=\"T_6a4ede46_ba42_11eb_b14e_e4e749655c86row1_col0\" class=\"data row1 col0\" >0.089677</td>\n",
       "            </tr>\n",
       "            <tr>\n",
       "                        <th id=\"T_6a4ede46_ba42_11eb_b14e_e4e749655c86level0_row2\" class=\"row_heading level0 row2\" >EFFACE</th>\n",
       "                        <td id=\"T_6a4ede46_ba42_11eb_b14e_e4e749655c86row2_col0\" class=\"data row2 col0\" >0.190320</td>\n",
       "            </tr>\n",
       "            <tr>\n",
       "                        <th id=\"T_6a4ede46_ba42_11eb_b14e_e4e749655c86level0_row3\" class=\"row_heading level0 row3\" >CONSIS</th>\n",
       "                        <td id=\"T_6a4ede46_ba42_11eb_b14e_e4e749655c86row3_col0\" class=\"data row3 col0\" >0.073860</td>\n",
       "            </tr>\n",
       "            <tr>\n",
       "                        <th id=\"T_6a4ede46_ba42_11eb_b14e_e4e749655c86level0_row4\" class=\"row_heading level0 row4\" >MEMBRAN</th>\n",
       "                        <td id=\"T_6a4ede46_ba42_11eb_b14e_e4e749655c86row4_col0\" class=\"data row4 col0\" >0.092712</td>\n",
       "            </tr>\n",
       "            <tr>\n",
       "                        <th id=\"T_6a4ede46_ba42_11eb_b14e_e4e749655c86level0_row5\" class=\"row_heading level0 row5\" >AGE</th>\n",
       "                        <td id=\"T_6a4ede46_ba42_11eb_b14e_e4e749655c86row5_col0\" class=\"data row5 col0\" >0.205896</td>\n",
       "            </tr>\n",
       "            <tr>\n",
       "                        <th id=\"T_6a4ede46_ba42_11eb_b14e_e4e749655c86level0_row6\" class=\"row_heading level0 row6\" >PARIT</th>\n",
       "                        <td id=\"T_6a4ede46_ba42_11eb_b14e_e4e749655c86row6_col0\" class=\"data row6 col0\" >0.093426</td>\n",
       "            </tr>\n",
       "            <tr>\n",
       "                        <th id=\"T_6a4ede46_ba42_11eb_b14e_e4e749655c86level0_row7\" class=\"row_heading level0 row7\" >TRANSF</th>\n",
       "                        <td id=\"T_6a4ede46_ba42_11eb_b14e_e4e749655c86row7_col0\" class=\"data row7 col0\" >0.044562</td>\n",
       "            </tr>\n",
       "            <tr>\n",
       "                        <th id=\"T_6a4ede46_ba42_11eb_b14e_e4e749655c86level0_row8\" class=\"row_heading level0 row8\" >GEMEL</th>\n",
       "                        <td id=\"T_6a4ede46_ba42_11eb_b14e_e4e749655c86row8_col0\" class=\"data row8 col0\" >0.026799</td>\n",
       "            </tr>\n",
       "    </tbody></table>"
      ],
      "text/plain": [
       "<pandas.io.formats.style.Styler at 0x15702cdcfd0>"
      ]
     },
     "execution_count": 196,
     "metadata": {},
     "output_type": "execute_result"
    }
   ],
   "source": [
    "# Exemple d'affichage avec pandas \n",
    "pd.DataFrame(rf.feature_importances_, index=X.columns, columns=['Feature importance']).style.background_gradient(cmap=\"coolwarm\")"
   ]
  },
  {
   "cell_type": "markdown",
   "metadata": {},
   "source": [
    "Plus les nombres renvoyés par `rf.feature_importances_` sont élevés, plus ils sont importants dans cette tâche de classification ."
   ]
  },
  {
   "cell_type": "markdown",
   "metadata": {},
   "source": [
    "# V - Classification Naive Bayes"
   ]
  },
  {
   "cell_type": "markdown",
   "metadata": {},
   "source": [
    "Nous proposons ici la `classification Naive Bayes` qui suppose que chaque classe est construite à partir d'une distribution Gaussiènne alignée."
   ]
  },
  {
   "cell_type": "markdown",
   "metadata": {},
   "source": [
    "On importe dans un premier temps les éléments nécessaires, à savoir : `pandas`, `numpy`, `seaborn` `train_test_split`, `GaussianNB` et `accuracy_score`."
   ]
  },
  {
   "cell_type": "code",
   "execution_count": 197,
   "metadata": {},
   "outputs": [],
   "source": [
    "# Importer la classe GaussianNBr issue du module sklearn.naive_bayes\n",
    "import pandas as pd\n",
    "import numpy as np \n",
    "import seaborn as sns\n",
    "import matplotlib.pyplot as plt\n",
    "from sklearn.model_selection import train_test_split\n",
    "from sklearn.naive_bayes import GaussianNB\n",
    "from sklearn.metrics import accuracy_score"
   ]
  },
  {
   "cell_type": "markdown",
   "metadata": {},
   "source": [
    "Ensuite, on charge le fichier Excel contenant les données et on affiche les  5 premiers enregistrements pour avoir une idée sur l’ensemble de données."
   ]
  },
  {
   "cell_type": "code",
   "execution_count": 198,
   "metadata": {},
   "outputs": [
    {
     "data": {
      "text/html": [
       "<div>\n",
       "<style scoped>\n",
       "    .dataframe tbody tr th:only-of-type {\n",
       "        vertical-align: middle;\n",
       "    }\n",
       "\n",
       "    .dataframe tbody tr th {\n",
       "        vertical-align: top;\n",
       "    }\n",
       "\n",
       "    .dataframe thead th {\n",
       "        text-align: right;\n",
       "    }\n",
       "</style>\n",
       "<table border=\"1\" class=\"dataframe\">\n",
       "  <thead>\n",
       "    <tr style=\"text-align: right;\">\n",
       "      <th></th>\n",
       "      <th>GEST</th>\n",
       "      <th>DILATE</th>\n",
       "      <th>EFFACE</th>\n",
       "      <th>CONSIS</th>\n",
       "      <th>CONTR</th>\n",
       "      <th>MEMBRAN</th>\n",
       "      <th>AGE</th>\n",
       "      <th>GRAVID</th>\n",
       "      <th>PARIT</th>\n",
       "      <th>DIAB</th>\n",
       "      <th>TRANSF</th>\n",
       "      <th>GEMEL</th>\n",
       "      <th>PREMATURE</th>\n",
       "    </tr>\n",
       "  </thead>\n",
       "  <tbody>\n",
       "    <tr>\n",
       "      <th>0</th>\n",
       "      <td>31</td>\n",
       "      <td>3</td>\n",
       "      <td>100</td>\n",
       "      <td>3</td>\n",
       "      <td>1</td>\n",
       "      <td>2</td>\n",
       "      <td>26</td>\n",
       "      <td>1</td>\n",
       "      <td>0</td>\n",
       "      <td>2</td>\n",
       "      <td>2</td>\n",
       "      <td>1</td>\n",
       "      <td>positif</td>\n",
       "    </tr>\n",
       "    <tr>\n",
       "      <th>1</th>\n",
       "      <td>28</td>\n",
       "      <td>8</td>\n",
       "      <td>0</td>\n",
       "      <td>3</td>\n",
       "      <td>1</td>\n",
       "      <td>2</td>\n",
       "      <td>25</td>\n",
       "      <td>1</td>\n",
       "      <td>0</td>\n",
       "      <td>2</td>\n",
       "      <td>1</td>\n",
       "      <td>2</td>\n",
       "      <td>positif</td>\n",
       "    </tr>\n",
       "    <tr>\n",
       "      <th>2</th>\n",
       "      <td>31</td>\n",
       "      <td>3</td>\n",
       "      <td>100</td>\n",
       "      <td>3</td>\n",
       "      <td>2</td>\n",
       "      <td>2</td>\n",
       "      <td>28</td>\n",
       "      <td>2</td>\n",
       "      <td>0</td>\n",
       "      <td>2</td>\n",
       "      <td>1</td>\n",
       "      <td>1</td>\n",
       "      <td>positif</td>\n",
       "    </tr>\n",
       "    <tr>\n",
       "      <th>3</th>\n",
       "      <td>27</td>\n",
       "      <td>2</td>\n",
       "      <td>75</td>\n",
       "      <td>3</td>\n",
       "      <td>2</td>\n",
       "      <td>2</td>\n",
       "      <td>27</td>\n",
       "      <td>2</td>\n",
       "      <td>1</td>\n",
       "      <td>2</td>\n",
       "      <td>1</td>\n",
       "      <td>2</td>\n",
       "      <td>positif</td>\n",
       "    </tr>\n",
       "    <tr>\n",
       "      <th>4</th>\n",
       "      <td>28</td>\n",
       "      <td>6</td>\n",
       "      <td>75</td>\n",
       "      <td>3</td>\n",
       "      <td>2</td>\n",
       "      <td>2</td>\n",
       "      <td>17</td>\n",
       "      <td>1</td>\n",
       "      <td>0</td>\n",
       "      <td>2</td>\n",
       "      <td>1</td>\n",
       "      <td>1</td>\n",
       "      <td>positif</td>\n",
       "    </tr>\n",
       "  </tbody>\n",
       "</table>\n",
       "</div>"
      ],
      "text/plain": [
       "   GEST  DILATE  EFFACE  CONSIS  CONTR  MEMBRAN  AGE  GRAVID  PARIT  DIAB  \\\n",
       "0    31       3     100       3      1        2   26       1      0     2   \n",
       "1    28       8       0       3      1        2   25       1      0     2   \n",
       "2    31       3     100       3      2        2   28       2      0     2   \n",
       "3    27       2      75       3      2        2   27       2      1     2   \n",
       "4    28       6      75       3      2        2   17       1      0     2   \n",
       "\n",
       "   TRANSF  GEMEL PREMATURE  \n",
       "0       2      1   positif  \n",
       "1       1      2   positif  \n",
       "2       1      1   positif  \n",
       "3       1      2   positif  \n",
       "4       1      1   positif  "
      ]
     },
     "execution_count": 198,
     "metadata": {},
     "output_type": "execute_result"
    }
   ],
   "source": [
    "prematures = pd.read_excel(\"data/Prematures.xls\")\n",
    "prematures.head()"
   ]
  },
  {
   "cell_type": "code",
   "execution_count": 199,
   "metadata": {},
   "outputs": [
    {
     "data": {
      "text/html": [
       "<div>\n",
       "<style scoped>\n",
       "    .dataframe tbody tr th:only-of-type {\n",
       "        vertical-align: middle;\n",
       "    }\n",
       "\n",
       "    .dataframe tbody tr th {\n",
       "        vertical-align: top;\n",
       "    }\n",
       "\n",
       "    .dataframe thead th {\n",
       "        text-align: right;\n",
       "    }\n",
       "</style>\n",
       "<table border=\"1\" class=\"dataframe\">\n",
       "  <thead>\n",
       "    <tr style=\"text-align: right;\">\n",
       "      <th></th>\n",
       "      <th>GEST</th>\n",
       "      <th>DILATE</th>\n",
       "      <th>EFFACE</th>\n",
       "      <th>CONSIS</th>\n",
       "      <th>CONTR</th>\n",
       "      <th>MEMBRAN</th>\n",
       "      <th>AGE</th>\n",
       "      <th>GRAVID</th>\n",
       "      <th>PARIT</th>\n",
       "      <th>DIAB</th>\n",
       "      <th>TRANSF</th>\n",
       "      <th>GEMEL</th>\n",
       "      <th>PREMATURE</th>\n",
       "      <th>etiquette</th>\n",
       "    </tr>\n",
       "  </thead>\n",
       "  <tbody>\n",
       "    <tr>\n",
       "      <th>0</th>\n",
       "      <td>31</td>\n",
       "      <td>3</td>\n",
       "      <td>100</td>\n",
       "      <td>3</td>\n",
       "      <td>1</td>\n",
       "      <td>2</td>\n",
       "      <td>26</td>\n",
       "      <td>1</td>\n",
       "      <td>0</td>\n",
       "      <td>2</td>\n",
       "      <td>2</td>\n",
       "      <td>1</td>\n",
       "      <td>positif</td>\n",
       "      <td>1</td>\n",
       "    </tr>\n",
       "    <tr>\n",
       "      <th>1</th>\n",
       "      <td>28</td>\n",
       "      <td>8</td>\n",
       "      <td>0</td>\n",
       "      <td>3</td>\n",
       "      <td>1</td>\n",
       "      <td>2</td>\n",
       "      <td>25</td>\n",
       "      <td>1</td>\n",
       "      <td>0</td>\n",
       "      <td>2</td>\n",
       "      <td>1</td>\n",
       "      <td>2</td>\n",
       "      <td>positif</td>\n",
       "      <td>1</td>\n",
       "    </tr>\n",
       "    <tr>\n",
       "      <th>2</th>\n",
       "      <td>31</td>\n",
       "      <td>3</td>\n",
       "      <td>100</td>\n",
       "      <td>3</td>\n",
       "      <td>2</td>\n",
       "      <td>2</td>\n",
       "      <td>28</td>\n",
       "      <td>2</td>\n",
       "      <td>0</td>\n",
       "      <td>2</td>\n",
       "      <td>1</td>\n",
       "      <td>1</td>\n",
       "      <td>positif</td>\n",
       "      <td>1</td>\n",
       "    </tr>\n",
       "    <tr>\n",
       "      <th>3</th>\n",
       "      <td>27</td>\n",
       "      <td>2</td>\n",
       "      <td>75</td>\n",
       "      <td>3</td>\n",
       "      <td>2</td>\n",
       "      <td>2</td>\n",
       "      <td>27</td>\n",
       "      <td>2</td>\n",
       "      <td>1</td>\n",
       "      <td>2</td>\n",
       "      <td>1</td>\n",
       "      <td>2</td>\n",
       "      <td>positif</td>\n",
       "      <td>1</td>\n",
       "    </tr>\n",
       "    <tr>\n",
       "      <th>4</th>\n",
       "      <td>28</td>\n",
       "      <td>6</td>\n",
       "      <td>75</td>\n",
       "      <td>3</td>\n",
       "      <td>2</td>\n",
       "      <td>2</td>\n",
       "      <td>17</td>\n",
       "      <td>1</td>\n",
       "      <td>0</td>\n",
       "      <td>2</td>\n",
       "      <td>1</td>\n",
       "      <td>1</td>\n",
       "      <td>positif</td>\n",
       "      <td>1</td>\n",
       "    </tr>\n",
       "  </tbody>\n",
       "</table>\n",
       "</div>"
      ],
      "text/plain": [
       "   GEST  DILATE  EFFACE  CONSIS  CONTR  MEMBRAN  AGE  GRAVID  PARIT  DIAB  \\\n",
       "0    31       3     100       3      1        2   26       1      0     2   \n",
       "1    28       8       0       3      1        2   25       1      0     2   \n",
       "2    31       3     100       3      2        2   28       2      0     2   \n",
       "3    27       2      75       3      2        2   27       2      1     2   \n",
       "4    28       6      75       3      2        2   17       1      0     2   \n",
       "\n",
       "   TRANSF  GEMEL PREMATURE etiquette  \n",
       "0       2      1   positif         1  \n",
       "1       1      2   positif         1  \n",
       "2       1      1   positif         1  \n",
       "3       1      2   positif         1  \n",
       "4       1      1   positif         1  "
      ]
     },
     "execution_count": 199,
     "metadata": {},
     "output_type": "execute_result"
    }
   ],
   "source": [
    "#### Créer une nouvelle colonne etiquette qui reçoit 0 si PREMATURE == \"négatif\" ou 1 sinon\n",
    "prematures['etiquette'] = np.where(prematures['PREMATURE']==\"negatif\", '0', '1')\n",
    "prematures.head()"
   ]
  },
  {
   "cell_type": "code",
   "execution_count": 200,
   "metadata": {},
   "outputs": [
    {
     "name": "stdout",
     "output_type": "stream",
     "text": [
      "{'1': 'positif', '0': 'negatif'}\n"
     ]
    }
   ],
   "source": [
    "#Encodage\n",
    "accouchement_premature = dict(zip(prematures.etiquette.unique(), prematures.PREMATURE.unique()))\n",
    "print(accouchement_premature)\n",
    "x = prematures[['GEST', 'DILATE', 'EFFACE', 'CONSIS', 'MEMBRAN', 'AGE', 'PARIT', 'TRANSF', 'GEMEL']]\n",
    "y = prematures['PREMATURE']"
   ]
  },
  {
   "cell_type": "code",
   "execution_count": 201,
   "metadata": {},
   "outputs": [],
   "source": [
    "#fractionner dataset (train-test)\n",
    "x_train, x_test, y_train, y_test = train_test_split(x, y, test_size = 0.20)"
   ]
  },
  {
   "cell_type": "code",
   "execution_count": 202,
   "metadata": {},
   "outputs": [],
   "source": [
    "# Création du classifieur\n",
    "clf = GaussianNB()"
   ]
  },
  {
   "cell_type": "code",
   "execution_count": 203,
   "metadata": {},
   "outputs": [
    {
     "data": {
      "text/plain": [
       "GaussianNB()"
      ]
     },
     "execution_count": 203,
     "metadata": {},
     "output_type": "execute_result"
    }
   ],
   "source": [
    "# Apprentissage\n",
    "clf.fit(x_train, y_train)"
   ]
  },
  {
   "cell_type": "code",
   "execution_count": 204,
   "metadata": {},
   "outputs": [
    {
     "name": "stdout",
     "output_type": "stream",
     "text": [
      "['positif' 'negatif' 'negatif' 'positif' 'positif' 'negatif' 'negatif'\n",
      " 'positif' 'positif' 'positif' 'negatif' 'negatif' 'positif' 'negatif'\n",
      " 'negatif' 'positif' 'positif' 'positif' 'positif' 'negatif' 'negatif'\n",
      " 'negatif' 'negatif' 'positif' 'positif' 'negatif' 'positif' 'negatif'\n",
      " 'positif' 'positif' 'negatif' 'positif' 'negatif' 'positif' 'positif'\n",
      " 'negatif' 'positif' 'negatif' 'positif' 'positif' 'negatif' 'negatif'\n",
      " 'positif' 'positif' 'positif' 'positif' 'negatif' 'negatif' 'negatif'\n",
      " 'negatif' 'positif' 'negatif' 'positif' 'negatif' 'positif' 'negatif'\n",
      " 'positif' 'negatif' 'negatif' 'positif' 'positif' 'positif' 'positif'\n",
      " 'positif' 'positif' 'positif' 'positif' 'positif' 'negatif' 'negatif'\n",
      " 'negatif' 'positif' 'negatif' 'negatif' 'positif' 'negatif' 'negatif'\n",
      " 'positif']\n"
     ]
    }
   ],
   "source": [
    "# prédiction\n",
    "prediction = clf.predict(x_test)\n",
    "print(prediction)"
   ]
  },
  {
   "cell_type": "code",
   "execution_count": 205,
   "metadata": {},
   "outputs": [
    {
     "name": "stdout",
     "output_type": "stream",
     "text": [
      "74.35897435897436\n"
     ]
    }
   ],
   "source": [
    "# evaluation du modèle : Qualité de la prédiction\n",
    "precision = accuracy_score(y_test, prediction)*100\n",
    "print(precision)"
   ]
  },
  {
   "cell_type": "code",
   "execution_count": 206,
   "metadata": {},
   "outputs": [
    {
     "data": {
      "text/plain": [
       "array([[20,  4],\n",
       "       [16, 38]], dtype=int64)"
      ]
     },
     "execution_count": 206,
     "metadata": {},
     "output_type": "execute_result"
    }
   ],
   "source": [
    "# matrice de confusion:\n",
    "\n",
    "from sklearn.metrics import confusion_matrix\n",
    "conf = confusion_matrix(y_test, prediction)\n",
    "conf"
   ]
  },
  {
   "cell_type": "code",
   "execution_count": 207,
   "metadata": {},
   "outputs": [
    {
     "data": {
      "image/png": "[encoded data removed]",
      "text/plain": [
       "<Figure size 432x288 with 1 Axes>"
      ]
     },
     "metadata": {
      "needs_background": "light"
     },
     "output_type": "display_data"
    }
   ],
   "source": [
    "sns.heatmap(conf, square=True, annot=True, cbar=False\n",
    "            , xticklabels=list(prematures[\"PREMATURE\"].unique())\n",
    "            , yticklabels=list(prematures[\"PREMATURE\"].unique()))\n",
    "plt.xlabel('valeurs prédites')\n",
    "plt.ylabel('valeurs réelles');"
   ]
  },
  {
   "cell_type": "code",
   "execution_count": null,
   "metadata": {},
   "outputs": [],
   "source": []
  }
 ],
 "metadata": {
  "kernelspec": {
   "display_name": "Python 3",
   "language": "python",
   "name": "python3"
  },
  "language_info": {
   "codemirror_mode": {
    "name": "ipython",
    "version": 3
   },
   "file_extension": ".py",
   "mimetype": "text/x-python",
   "name": "python",
   "nbconvert_exporter": "python",
   "pygments_lexer": "ipython3",
   "version": "3.7.6"
  }
 },
 "nbformat": 4,
 "nbformat_minor": 4
}
